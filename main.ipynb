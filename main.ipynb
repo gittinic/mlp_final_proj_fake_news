{
 "cells": [
  {
   "cell_type": "markdown",
   "metadata": {},
   "source": [
    "# Load Data"
   ]
  },
  {
   "cell_type": "code",
   "execution_count": 379,
   "metadata": {},
   "outputs": [],
   "source": [
    "# Imports\n",
    "# from settings import *\n",
    "# import analyze_cascade\n",
    "import datetime\n",
    "import pandas as pd\n",
    "import numpy as np\n",
    "from itertools import groupby\n",
    "from collections import Counter\n",
    "from random import shuffle\n",
    "from random import choices\n",
    "import math\n",
    "\n",
    "from keras.utils import to_categorical\n",
    "from keras.models import Sequential, Model\n",
    "from keras.layers import LSTM, Input, Dense\n",
    "from keras.layers import concatenate as kerasconc\n",
    "\n",
    "import matplotlib.pyplot as plt\n",
    "from itertools import cycle\n",
    "\n",
    "from sklearn import svm, datasets\n",
    "from sklearn.metrics import roc_curve, auc\n",
    "from sklearn.model_selection import train_test_split\n",
    "from sklearn.preprocessing import label_binarize\n",
    "from sklearn.multiclass import OneVsRestClassifier\n",
    "from scipy import interp"
   ]
  },
  {
   "cell_type": "code",
   "execution_count": 4,
   "metadata": {},
   "outputs": [],
   "source": [
    "metadata_file = 'metadata_anon.txt'"
   ]
  },
  {
   "cell_type": "code",
   "execution_count": 5,
   "metadata": {},
   "outputs": [],
   "source": [
    "# Read meta data \n",
    "fin = open(metadata_file,'r')\n",
    "lines = fin.readlines()\n",
    "fin.close()\n",
    "cascade_id2metadata={}\n",
    "for line in lines:\n",
    "    line = line.replace('\\n','')\n",
    "    item = eval(line)\n",
    "    cascade_id2metadata[item[0]] = item[1]"
   ]
  },
  {
   "cell_type": "markdown",
   "metadata": {},
   "source": [
    "## Descriptives of dynamic measures"
   ]
  },
  {
   "cell_type": "markdown",
   "metadata": {},
   "source": [
    "### Static measures"
   ]
  },
  {
   "cell_type": "code",
   "execution_count": 6,
   "metadata": {},
   "outputs": [
    {
     "data": {
      "text/html": [
       "<div>\n",
       "<style scoped>\n",
       "    .dataframe tbody tr th:only-of-type {\n",
       "        vertical-align: middle;\n",
       "    }\n",
       "\n",
       "    .dataframe tbody tr th {\n",
       "        vertical-align: top;\n",
       "    }\n",
       "\n",
       "    .dataframe thead th {\n",
       "        text-align: right;\n",
       "    }\n",
       "</style>\n",
       "<table border=\"1\" class=\"dataframe\">\n",
       "  <thead>\n",
       "    <tr style=\"text-align: right;\">\n",
       "      <th></th>\n",
       "      <th>breadth</th>\n",
       "      <th>category</th>\n",
       "      <th>cid</th>\n",
       "      <th>depth</th>\n",
       "      <th>engangement</th>\n",
       "      <th>nfollowees</th>\n",
       "      <th>nfollowers</th>\n",
       "      <th>size</th>\n",
       "      <th>veracity</th>\n",
       "      <th>verified</th>\n",
       "      <th>virality</th>\n",
       "    </tr>\n",
       "  </thead>\n",
       "  <tbody>\n",
       "    <tr>\n",
       "      <th>0</th>\n",
       "      <td>10703</td>\n",
       "      <td>Viral Photos/Stories/Urban Legends</td>\n",
       "      <td>106998</td>\n",
       "      <td>11</td>\n",
       "      <td>25.799399</td>\n",
       "      <td>186.0</td>\n",
       "      <td>672.0</td>\n",
       "      <td>23228</td>\n",
       "      <td>MIXED</td>\n",
       "      <td>False</td>\n",
       "      <td>4.003857</td>\n",
       "    </tr>\n",
       "    <tr>\n",
       "      <th>1</th>\n",
       "      <td>11783</td>\n",
       "      <td>Science/Nature/Tech/Food/Health</td>\n",
       "      <td>106999</td>\n",
       "      <td>9</td>\n",
       "      <td>10.811974</td>\n",
       "      <td>313.0</td>\n",
       "      <td>380.0</td>\n",
       "      <td>14827</td>\n",
       "      <td>MIXED</td>\n",
       "      <td>False</td>\n",
       "      <td>2.535338</td>\n",
       "    </tr>\n",
       "    <tr>\n",
       "      <th>2</th>\n",
       "      <td>6504</td>\n",
       "      <td>Viral Photos/Stories/Urban Legends</td>\n",
       "      <td>107000</td>\n",
       "      <td>13</td>\n",
       "      <td>15.395237</td>\n",
       "      <td>518.0</td>\n",
       "      <td>504.0</td>\n",
       "      <td>14129</td>\n",
       "      <td>MIXED</td>\n",
       "      <td>False</td>\n",
       "      <td>4.019705</td>\n",
       "    </tr>\n",
       "    <tr>\n",
       "      <th>3</th>\n",
       "      <td>5772</td>\n",
       "      <td>Viral Photos/Stories/Urban Legends</td>\n",
       "      <td>107001</td>\n",
       "      <td>8</td>\n",
       "      <td>3.140842</td>\n",
       "      <td>189.0</td>\n",
       "      <td>228.0</td>\n",
       "      <td>9972</td>\n",
       "      <td>MIXED</td>\n",
       "      <td>False</td>\n",
       "      <td>3.271008</td>\n",
       "    </tr>\n",
       "    <tr>\n",
       "      <th>4</th>\n",
       "      <td>6041</td>\n",
       "      <td>Viral Photos/Stories/Urban Legends</td>\n",
       "      <td>107002</td>\n",
       "      <td>8</td>\n",
       "      <td>5.160261</td>\n",
       "      <td>174.0</td>\n",
       "      <td>110.0</td>\n",
       "      <td>9526</td>\n",
       "      <td>MIXED</td>\n",
       "      <td>False</td>\n",
       "      <td>3.115942</td>\n",
       "    </tr>\n",
       "  </tbody>\n",
       "</table>\n",
       "</div>"
      ],
      "text/plain": [
       "   breadth                            category     cid  depth  engangement  \\\n",
       "0    10703  Viral Photos/Stories/Urban Legends  106998     11    25.799399   \n",
       "1    11783     Science/Nature/Tech/Food/Health  106999      9    10.811974   \n",
       "2     6504  Viral Photos/Stories/Urban Legends  107000     13    15.395237   \n",
       "3     5772  Viral Photos/Stories/Urban Legends  107001      8     3.140842   \n",
       "4     6041  Viral Photos/Stories/Urban Legends  107002      8     5.160261   \n",
       "\n",
       "   nfollowees  nfollowers   size veracity verified  virality  \n",
       "0       186.0       672.0  23228    MIXED    False  4.003857  \n",
       "1       313.0       380.0  14827    MIXED    False  2.535338  \n",
       "2       518.0       504.0  14129    MIXED    False  4.019705  \n",
       "3       189.0       228.0   9972    MIXED    False  3.271008  \n",
       "4       174.0       110.0   9526    MIXED    False  3.115942  "
      ]
     },
     "execution_count": 6,
     "metadata": {},
     "output_type": "execute_result"
    }
   ],
   "source": [
    "# Get static measures\n",
    "cid = []\n",
    "veracity = []\n",
    "virality = []\n",
    "depth = []\n",
    "breadth = []\n",
    "size = []\n",
    "verified = []\n",
    "nfollowers = []\n",
    "nfollowees = []\n",
    "engagement = []\n",
    "category = []\n",
    "for cascade,metadata in cascade_id2metadata.items():\n",
    "    if metadata['virality'] is not None: \n",
    "        cid.append(cascade)\n",
    "        veracity.append(metadata['veracity'])\n",
    "        virality.append(metadata['virality'])\n",
    "        depth.append(metadata['depth'])\n",
    "        breadth.append(metadata['max_breadth'])\n",
    "        size.append(metadata['size'])\n",
    "        verified.append(metadata['verified_list'][0])\n",
    "        nfollowers.append(metadata['num_followers_list'][0])\n",
    "        nfollowees.append(metadata['num_followees_list'][0])\n",
    "        engagement.append(metadata['engagement_list'][0])\n",
    "        category.append(metadata['rumor_category'])\n",
    "\n",
    "# Convert to data frame\n",
    "static = pd.DataFrame({'cid': cid,\n",
    "                       'veracity': veracity,\n",
    "                       'virality': virality,\n",
    "                       'depth': depth,\n",
    "                       'breadth': breadth,\n",
    "                       'size': size,\n",
    "                       'verified': verified,\n",
    "                       'nfollowers': nfollowers,\n",
    "                       'nfollowees': nfollowees,\n",
    "                       'engangement': engagement,\n",
    "                       'category': category})\n",
    "\n",
    "# Inspect\n",
    "static.head(5)"
   ]
  },
  {
   "cell_type": "code",
   "execution_count": 35,
   "metadata": {},
   "outputs": [
    {
     "data": {
      "text/plain": [
       "462891"
      ]
     },
     "execution_count": 35,
     "metadata": {},
     "output_type": "execute_result"
    }
   ],
   "source": [
    "static.size"
   ]
  },
  {
   "cell_type": "markdown",
   "metadata": {},
   "source": [
    "### Dynamic measures"
   ]
  },
  {
   "cell_type": "code",
   "execution_count": 4,
   "metadata": {},
   "outputs": [
    {
     "data": {
      "text/html": [
       "<div>\n",
       "<style scoped>\n",
       "    .dataframe tbody tr th:only-of-type {\n",
       "        vertical-align: middle;\n",
       "    }\n",
       "\n",
       "    .dataframe tbody tr th {\n",
       "        vertical-align: top;\n",
       "    }\n",
       "\n",
       "    .dataframe thead th {\n",
       "        text-align: right;\n",
       "    }\n",
       "</style>\n",
       "<table border=\"1\" class=\"dataframe\">\n",
       "  <thead>\n",
       "    <tr style=\"text-align: right;\">\n",
       "      <th></th>\n",
       "      <th>depth2breadth</th>\n",
       "      <th>depth2time</th>\n",
       "      <th>depth2uu</th>\n",
       "      <th>num_followees_list</th>\n",
       "      <th>uu2time</th>\n",
       "    </tr>\n",
       "  </thead>\n",
       "  <tbody>\n",
       "    <tr>\n",
       "      <th>count</th>\n",
       "      <td>42081.000000</td>\n",
       "      <td>42081.000000</td>\n",
       "      <td>42081.000000</td>\n",
       "      <td>42081.000000</td>\n",
       "      <td>42081.000000</td>\n",
       "    </tr>\n",
       "    <tr>\n",
       "      <th>mean</th>\n",
       "      <td>1.707707</td>\n",
       "      <td>1.707707</td>\n",
       "      <td>1.707707</td>\n",
       "      <td>93.878829</td>\n",
       "      <td>93.878829</td>\n",
       "    </tr>\n",
       "    <tr>\n",
       "      <th>std</th>\n",
       "      <td>1.319555</td>\n",
       "      <td>1.319555</td>\n",
       "      <td>1.319555</td>\n",
       "      <td>950.694376</td>\n",
       "      <td>950.694376</td>\n",
       "    </tr>\n",
       "    <tr>\n",
       "      <th>min</th>\n",
       "      <td>1.000000</td>\n",
       "      <td>1.000000</td>\n",
       "      <td>1.000000</td>\n",
       "      <td>2.000000</td>\n",
       "      <td>2.000000</td>\n",
       "    </tr>\n",
       "    <tr>\n",
       "      <th>25%</th>\n",
       "      <td>1.000000</td>\n",
       "      <td>1.000000</td>\n",
       "      <td>1.000000</td>\n",
       "      <td>2.000000</td>\n",
       "      <td>2.000000</td>\n",
       "    </tr>\n",
       "    <tr>\n",
       "      <th>50%</th>\n",
       "      <td>1.000000</td>\n",
       "      <td>1.000000</td>\n",
       "      <td>1.000000</td>\n",
       "      <td>4.000000</td>\n",
       "      <td>4.000000</td>\n",
       "    </tr>\n",
       "    <tr>\n",
       "      <th>75%</th>\n",
       "      <td>2.000000</td>\n",
       "      <td>2.000000</td>\n",
       "      <td>2.000000</td>\n",
       "      <td>9.000000</td>\n",
       "      <td>9.000000</td>\n",
       "    </tr>\n",
       "    <tr>\n",
       "      <th>100%</th>\n",
       "      <td>24.000000</td>\n",
       "      <td>24.000000</td>\n",
       "      <td>24.000000</td>\n",
       "      <td>46895.000000</td>\n",
       "      <td>46895.000000</td>\n",
       "    </tr>\n",
       "    <tr>\n",
       "      <th>max</th>\n",
       "      <td>24.000000</td>\n",
       "      <td>24.000000</td>\n",
       "      <td>24.000000</td>\n",
       "      <td>46895.000000</td>\n",
       "      <td>46895.000000</td>\n",
       "    </tr>\n",
       "  </tbody>\n",
       "</table>\n",
       "</div>"
      ],
      "text/plain": [
       "       depth2breadth   depth2time       depth2uu  num_followees_list  \\\n",
       "count   42081.000000  42081.000000  42081.000000        42081.000000   \n",
       "mean        1.707707      1.707707      1.707707           93.878829   \n",
       "std         1.319555      1.319555      1.319555          950.694376   \n",
       "min         1.000000      1.000000      1.000000            2.000000   \n",
       "25%         1.000000      1.000000      1.000000            2.000000   \n",
       "50%         1.000000      1.000000      1.000000            4.000000   \n",
       "75%         2.000000      2.000000      2.000000            9.000000   \n",
       "100%       24.000000     24.000000     24.000000        46895.000000   \n",
       "max        24.000000     24.000000     24.000000        46895.000000   \n",
       "\n",
       "            uu2time  \n",
       "count  42081.000000  \n",
       "mean      93.878829  \n",
       "std      950.694376  \n",
       "min        2.000000  \n",
       "25%        2.000000  \n",
       "50%        4.000000  \n",
       "75%        9.000000  \n",
       "100%   46895.000000  \n",
       "max    46895.000000  "
      ]
     },
     "execution_count": 4,
     "metadata": {},
     "output_type": "execute_result"
    }
   ],
   "source": [
    "len_depth2time = []\n",
    "len_num_followees_list = []\n",
    "len_depth2uu = []\n",
    "len_uu2time = []\n",
    "len_depth2breadth = []\n",
    "for cascade,metadata in cascade_id2metadata.items():\n",
    "    if metadata['virality'] is not None: \n",
    "        len_depth2time.append(len(metadata['depth2time'].keys()))\n",
    "        len_num_followees_list.append(len(metadata['num_followees_list']))\n",
    "        len_depth2uu.append(len(metadata['depth2uu'].keys()))\n",
    "        len_uu2time.append(len(metadata['uu2time'].keys()))\n",
    "        len_depth2breadth.append(len(metadata['depth2breadth'].keys()))\n",
    "    \n",
    "# Convert to data frame\n",
    "dynamic_len = pd.DataFrame({'depth2time ': len_depth2time, \n",
    "                           'num_followees_list': len_num_followees_list, \n",
    "                           'depth2uu': len_depth2uu, \n",
    "                           'uu2time': len_uu2time, \n",
    "                           'depth2breadth': len_depth2breadth})\n",
    "\n",
    "# # Get summary\n",
    "dynamic_len.describe(percentiles = [0.25, 0.5, 0.75, 1])\n",
    "    "
   ]
  },
  {
   "cell_type": "markdown",
   "metadata": {},
   "source": [
    "## Create LSTM data"
   ]
  },
  {
   "cell_type": "markdown",
   "metadata": {},
   "source": [
    "### Get dynamic data"
   ]
  },
  {
   "cell_type": "code",
   "execution_count": 289,
   "metadata": {},
   "outputs": [],
   "source": [
    "# Function to get expression of each item in a dictionary entry\n",
    "def get_expression_list(entry):\n",
    "    expression = []\n",
    "    for i in entry.keys():\n",
    "        expression.append(float(entry[i]))\n",
    "    return expression\n",
    "\n",
    "# Convert y to classification\n",
    "def veracity_to_categorical(v):\n",
    "    if v == 'FALSE':\n",
    "        vbin = [1,0,0]\n",
    "    elif v == 'MIXED':\n",
    "        vbin = [0,1,0]\n",
    "    elif v == 'TRUE':\n",
    "        vbin = [0,0,1]\n",
    "    else:\n",
    "        vbin = None\n",
    "    return vbin\n",
    "\n",
    "# Get data in list format\n",
    "data = []\n",
    "for cascade,metadata in cascade_id2metadata.items():\n",
    "    if metadata['virality'] is not None:       \n",
    "        # Get depth\n",
    "        depth2time = get_expression_list(metadata['depth2time'])\n",
    "        depth2uu = get_expression_list(metadata['depth2uu'])\n",
    "        depth2breadth = get_expression_list(metadata['depth2breadth']) \n",
    "        veracity = veracity_to_categorical(metadata['veracity'])\n",
    "        data_id = []\n",
    "        for time, uu, breadth in zip(depth2time, depth2uu, depth2breadth):\n",
    "            data_t = [cascade, \n",
    "                      veracity,\n",
    "                      time, uu, breadth]\n",
    "            data_id.append(data_t)\n",
    "        data.extend([data_id])"
   ]
  },
  {
   "cell_type": "markdown",
   "metadata": {},
   "source": [
    "### Preprocessing"
   ]
  },
  {
   "cell_type": "code",
   "execution_count": 8,
   "metadata": {},
   "outputs": [],
   "source": [
    "# Function: Create training and test set\n",
    "def split_list(lst, train_size): # train_size is a proportion\n",
    "    split = len(lst) * train_size\n",
    "    if split.is_integer():\n",
    "        split = int(split)\n",
    "        return lst[:split], lst[split:]\n",
    "    else:\n",
    "        split = math.floor(split) + 1\n",
    "        return lst[:split], lst[split:]\n",
    "    \n",
    "# Function: Padding for groups of equal batches\n",
    "def padding(lst, bsize):\n",
    "    if len(lst) % bsize != 0:\n",
    "        psize = bsize - (len(lst) % 5)\n",
    "        samples = choices(lst, k=psize)\n",
    "        lst.extend(samples)\n",
    "    return lst\n",
    "\n",
    "# Get sublist\n",
    "def get_sublist(list_in_list, start, stop):\n",
    "    x = []\n",
    "    for lst in list_in_list:\n",
    "        x_id = []\n",
    "        for sublist in lst:\n",
    "            if stop is None:\n",
    "                x_id.append(sublist[start:])\n",
    "            elif start is None:\n",
    "                x_id.append(sublist[:stop])\n",
    "            else:\n",
    "                x_id.append(sublist[start:stop])\n",
    "        x.extend([x_id])\n",
    "    return x\n",
    "\n",
    "# Separate id, x and y\n",
    "def separate(list_in_list):\n",
    "    cid = []\n",
    "    y = []\n",
    "    for lst in list_in_list:\n",
    "        cid.append(lst[0][0]) # only one id is needed\n",
    "        # The following code would assume target replication in the model\n",
    "#         veracity_id = []\n",
    "#         for sublist in lst:\n",
    "#             veracity_id.extend([sublist[1]])\n",
    "#         veracity.append(veracity_id)\n",
    "        y.append(lst[0][1])\n",
    "    x = get_sublist(list_in_list,2,None)\n",
    "    return cid, y, x\n",
    "\n",
    "# # Group by sequence length and append to have batches of 5 for both training and test\n",
    "data.sort(key=len)   # Randomly reshuffle before? random.shuffle(...)\n",
    "x_train = []\n",
    "x_test = []\n",
    "y_train = []\n",
    "y_test = []\n",
    "cid_train = []\n",
    "cid_test = []\n",
    "for k, g in groupby(data, len):\n",
    "    group = list(g)\n",
    "    if len(group) > 2: # This omits too small groups\n",
    "        shuffle(group)\n",
    "        # Create train and test bucket\n",
    "        train_group, test_group = split_list(group, 0.5)\n",
    "        # Padd for equal batch size\n",
    "        train_group_padded = padding(train_group, 5)\n",
    "        test_group_padded = padding(test_group, 5)\n",
    "        # Separate list\n",
    "        cid_train_group, y_train_group, x_train_group = separate(train_group)\n",
    "        cid_test_group, y_test_group, x_test_group = separate(test_group)\n",
    "        # Append:  convert y and x into numpy arrays for nn models\n",
    "        x_train.append(np.array(x_train_group))\n",
    "        x_test.append(np.array(x_test_group))\n",
    "        y_train.append(np.array(y_train_group))\n",
    "        y_test.append(np.array(y_test_group))\n",
    "        cid_train.append(cid_train_group)\n",
    "        cid_test.append(cid_test_group)"
   ]
  },
  {
   "cell_type": "markdown",
   "metadata": {},
   "source": [
    "### Data standardization"
   ]
  },
  {
   "cell_type": "code",
   "execution_count": 9,
   "metadata": {},
   "outputs": [],
   "source": [
    "# Function to standardize the list\n",
    "def standardization(lst, index, mean, std):\n",
    "    for array3d in lst:\n",
    "        for array2d in array3d:\n",
    "            for vector in array2d:\n",
    "                vector[index] = (vector[index] - mean) / std\n",
    "    return lst\n",
    "\n",
    "# Function to compute mean and std of variable and then standardizes this variable in list\n",
    "def standardize_data(a_list, b_list, index):\n",
    "    var = []\n",
    "    # Compute mean and std from train data variable\n",
    "    for array3d in a_list:\n",
    "        for array2d in array3d:\n",
    "            for vector in array2d:\n",
    "                var.append(vector[index])\n",
    "    var = np.array(var)\n",
    "    var_mean = var.mean()\n",
    "    var_std = var.std()\n",
    "    # Standardize a\n",
    "    a_list_std = standardization(a_list, index, var_mean, var_std)\n",
    "    b_list_std = standardization(b_list, index, var_mean, var_std)\n",
    "    return a_list_std, b_list_std\n",
    "\n",
    "# Standardize all variables\n",
    "def standardize_all(a_list, b_list):\n",
    "    length = len(a_list[0][0][0])\n",
    "    indices = list(range(length))\n",
    "    for i in indices:\n",
    "        std_a, std_b = standardize_data(a_list, b_list, i)\n",
    "    return std_a, std_b\n",
    "\n",
    "x_train, x_test = standardize_all(x_train, x_test)"
   ]
  },
  {
   "cell_type": "markdown",
   "metadata": {},
   "source": [
    "## LSTM train data descriptives"
   ]
  },
  {
   "cell_type": "code",
   "execution_count": 20,
   "metadata": {
    "collapsed": true
   },
   "outputs": [
    {
     "name": "stdout",
     "output_type": "stream",
     "text": [
      "Group:  1   Observations:  12960  Sequence length 1\n",
      "Group:  2   Observations:  4790  Sequence length 2\n",
      "Group:  3   Observations:  1790  Sequence length 3\n",
      "Group:  4   Observations:  760  Sequence length 4\n",
      "Group:  5   Observations:  320  Sequence length 5\n",
      "Group:  6   Observations:  170  Sequence length 6\n",
      "Group:  7   Observations:  95  Sequence length 7\n",
      "Group:  8   Observations:  65  Sequence length 8\n",
      "Group:  9   Observations:  35  Sequence length 9\n",
      "Group:  10   Observations:  25  Sequence length 10\n",
      "Group:  11   Observations:  20  Sequence length 11\n",
      "Group:  12   Observations:  15  Sequence length 12\n",
      "Group:  13   Observations:  10  Sequence length 13\n",
      "Group:  14   Observations:  10  Sequence length 14\n",
      "Group:  15   Observations:  5  Sequence length 15\n",
      "Group:  16   Observations:  5  Sequence length 16\n",
      "Group:  17   Observations:  5  Sequence length 17\n",
      "Group:  18   Observations:  5  Sequence length 19\n"
     ]
    }
   ],
   "source": [
    "# Group size and sequence length\n",
    "i = 1\n",
    "for g in x_train:\n",
    "    print('Group: ', i, ' ', 'Observations: ', len(g), ' ' 'Sequence length', len(g[0]))\n",
    "    i += 1"
   ]
  },
  {
   "cell_type": "code",
   "execution_count": 386,
   "metadata": {},
   "outputs": [
    {
     "name": "stdout",
     "output_type": "stream",
     "text": [
      "Group:  1 Counter({'FALSE': 9709, 'TRUE': 1962, 'MIXED': 1289})\n",
      "Group:  2 Counter({'FALSE': 3686, 'TRUE': 662, 'MIXED': 442})\n",
      "Group:  3 Counter({'FALSE': 1388, 'TRUE': 249, 'MIXED': 153})\n",
      "Group:  4 Counter({'FALSE': 591, 'TRUE': 102, 'MIXED': 67})\n",
      "Group:  5 Counter({'FALSE': 242, 'TRUE': 49, 'MIXED': 29})\n",
      "Group:  6 Counter({'FALSE': 129, 'MIXED': 23, 'TRUE': 18})\n",
      "Group:  7 Counter({'FALSE': 80, 'TRUE': 8, 'MIXED': 7})\n",
      "Group:  8 Counter({'FALSE': 49, 'TRUE': 9, 'MIXED': 7})\n",
      "Group:  9 Counter({'FALSE': 33, 'MIXED': 1, 'TRUE': 1})\n",
      "Group:  10 Counter({'FALSE': 23, 'MIXED': 2})\n",
      "Group:  11 Counter({'FALSE': 19, 'TRUE': 1})\n",
      "Group:  12 Counter({'FALSE': 15})\n",
      "Group:  13 Counter({'FALSE': 7, 'MIXED': 3})\n",
      "Group:  14 Counter({'FALSE': 10})\n",
      "Group:  15 Counter({'FALSE': 5})\n",
      "Group:  16 Counter({'FALSE': 5})\n",
      "Group:  17 Counter({'FALSE': 5})\n",
      "Group:  18 Counter({'FALSE': 5})\n"
     ]
    }
   ],
   "source": [
    "# Convert y to classification\n",
    "def reverse_veracity_to_categorical(vbin):\n",
    "    if vbin[0] == 1:\n",
    "        v = 'FALSE'\n",
    "    elif vbin[1] == 1:\n",
    "        v = 'MIXED'\n",
    "    elif vbin[2] == 1:\n",
    "        v = 'TRUE'\n",
    "    return v\n",
    "\n",
    "# Outcome distribution\n",
    "i = 1\n",
    "for g in y_train:\n",
    "    ver = []\n",
    "    for y in g:\n",
    "        ver.append(reverse_veracity_to_categorical(y))\n",
    "    print('Group: ', i, Counter(ver))\n",
    "    i += 1"
   ]
  },
  {
   "cell_type": "code",
   "execution_count": 388,
   "metadata": {},
   "outputs": [
    {
     "name": "stdout",
     "output_type": "stream",
     "text": [
      "Group:  Counter({'FALSE': 15922, 'TRUE': 3092, 'MIXED': 2061})\n"
     ]
    }
   ],
   "source": [
    "# Outcome distribution test overall\n",
    "ver = []\n",
    "for g in y_test:\n",
    "    for y in g:\n",
    "        ver.append(reverse_veracity_to_categorical(y))\n",
    "print('Group: ', Counter(ver))"
   ]
  },
  {
   "cell_type": "markdown",
   "metadata": {},
   "source": [
    "## LSTMs"
   ]
  },
  {
   "cell_type": "markdown",
   "metadata": {},
   "source": [
    "### LSTM for depth"
   ]
  },
  {
   "cell_type": "code",
   "execution_count": 10,
   "metadata": {},
   "outputs": [],
   "source": [
    "# Create LSTM model\n",
    "model = Sequential()\n",
    "model.add(LSTM(5, input_shape = (None, 3),  return_sequences = False))\n",
    "model.add(Dense(3, activation='softmax'))\n",
    "model.compile(loss='categorical_crossentropy', optimizer='adam', metrics=['accuracy'])\n"
   ]
  },
  {
   "cell_type": "code",
   "execution_count": 11,
   "metadata": {},
   "outputs": [
    {
     "name": "stdout",
     "output_type": "stream",
     "text": [
      "Epoch 1/2\n",
      "12960/12960 [==============================] - 12s 911us/step - loss: 0.7594 - acc: 0.7471\n",
      "Epoch 2/2\n",
      "12960/12960 [==============================] - 11s 854us/step - loss: 0.7326 - acc: 0.7492\n",
      "Epoch 1/2\n",
      "4790/4790 [==============================] - 5s 991us/step - loss: 0.6967 - acc: 0.7695\n",
      "Epoch 2/2\n",
      "4790/4790 [==============================] - 5s 967us/step - loss: 0.6961 - acc: 0.7695\n",
      "Epoch 1/2\n",
      "1790/1790 [==============================] - 2s 1ms/step - loss: 0.6827 - acc: 0.7754\n",
      "Epoch 2/2\n",
      "1790/1790 [==============================] - 2s 1ms/step - loss: 0.6814 - acc: 0.7754\n",
      "Epoch 1/2\n",
      "760/760 [==============================] - 2s 2ms/step - loss: 0.6837 - acc: 0.7776\n",
      "Epoch 2/2\n",
      "760/760 [==============================] - 1s 2ms/step - loss: 0.6824 - acc: 0.7776\n",
      "Epoch 1/2\n",
      "320/320 [==============================] - 1s 2ms/step - loss: 0.7185 - acc: 0.7563\n",
      "Epoch 2/2\n",
      "320/320 [==============================] - 1s 2ms/step - loss: 0.7143 - acc: 0.7563\n",
      "Epoch 1/2\n",
      "170/170 [==============================] - 0s 2ms/step - loss: 0.7257 - acc: 0.7588\n",
      "Epoch 2/2\n",
      "170/170 [==============================] - 0s 2ms/step - loss: 0.7207 - acc: 0.7588\n",
      "Epoch 1/2\n",
      "95/95 [==============================] - 0s 2ms/step - loss: 0.5551 - acc: 0.8421\n",
      "Epoch 2/2\n",
      "95/95 [==============================] - 0s 2ms/step - loss: 0.5483 - acc: 0.8421\n",
      "Epoch 1/2\n",
      "65/65 [==============================] - 0s 2ms/step - loss: 0.6780 - acc: 0.7538\n",
      "Epoch 2/2\n",
      "65/65 [==============================] - 0s 2ms/step - loss: 0.6704 - acc: 0.7538\n",
      "Epoch 1/2\n",
      "35/35 [==============================] - 0s 3ms/step - loss: 0.3291 - acc: 0.9429\n",
      "Epoch 2/2\n",
      "35/35 [==============================] - 0s 3ms/step - loss: 0.3245 - acc: 0.9429\n",
      "Epoch 1/2\n",
      "25/25 [==============================] - 0s 4ms/step - loss: 0.3758 - acc: 0.9200\n",
      "Epoch 2/2\n",
      "25/25 [==============================] - 0s 6ms/step - loss: 0.3712 - acc: 0.9200\n",
      "Epoch 1/2\n",
      "20/20 [==============================] - 0s 7ms/step - loss: 0.2465 - acc: 0.9500\n",
      "Epoch 2/2\n",
      "20/20 [==============================] - 0s 7ms/step - loss: 0.2434 - acc: 0.9500\n",
      "Epoch 1/2\n",
      "15/15 [==============================] - 0s 8ms/step - loss: 0.1742 - acc: 1.0000\n",
      "Epoch 2/2\n",
      "15/15 [==============================] - 0s 7ms/step - loss: 0.1708 - acc: 1.0000\n",
      "Epoch 1/2\n",
      "10/10 [==============================] - 0s 6ms/step - loss: 0.6541 - acc: 0.7000\n",
      "Epoch 2/2\n",
      "10/10 [==============================] - 0s 7ms/step - loss: 0.6341 - acc: 0.7000\n",
      "Epoch 1/2\n",
      "10/10 [==============================] - 0s 8ms/step - loss: 0.0971 - acc: 1.0000\n",
      "Epoch 2/2\n",
      "10/10 [==============================] - 0s 6ms/step - loss: 0.0956 - acc: 1.0000\n",
      "Epoch 1/2\n",
      "5/5 [==============================] - 0s 7ms/step - loss: 0.1250 - acc: 1.0000\n",
      "Epoch 2/2\n",
      "5/5 [==============================] - 0s 5ms/step - loss: 0.1239 - acc: 1.0000\n",
      "Epoch 1/2\n",
      "5/5 [==============================] - 0s 8ms/step - loss: 0.1036 - acc: 1.0000\n",
      "Epoch 2/2\n",
      "5/5 [==============================] - 0s 7ms/step - loss: 0.1024 - acc: 1.0000\n",
      "Epoch 1/2\n",
      "5/5 [==============================] - 0s 5ms/step - loss: 0.0974 - acc: 1.0000\n",
      "Epoch 2/2\n",
      "5/5 [==============================] - 0s 6ms/step - loss: 0.0951 - acc: 1.0000\n",
      "Epoch 1/2\n",
      "5/5 [==============================] - 0s 6ms/step - loss: 0.0976 - acc: 1.0000\n",
      "Epoch 2/2\n",
      "5/5 [==============================] - 0s 7ms/step - loss: 0.0952 - acc: 1.0000\n"
     ]
    }
   ],
   "source": [
    "# Fit model and get train predictions\n",
    "train_pred = []\n",
    "test_pred = []\n",
    "for X,Y,Z in zip(x_train, y_train, x_test):\n",
    "    hist = model.fit(X, Y, epochs=2, batch_size=5)\n",
    "    pred1 = model.predict(X, batch_size=5)\n",
    "    pred2 = model.predict(Z, batch_size=5)\n",
    "    train_pred.append(pred1)\n",
    "    test_pred.append(pred2)"
   ]
  },
  {
   "cell_type": "code",
   "execution_count": 39,
   "metadata": {},
   "outputs": [],
   "source": [
    "# Convert predictions to data frame with ID\n",
    "def pred_to_df(ids, pred, var_name, train):\n",
    "    # Create data frame of predictions\n",
    "    n = len(pred[0][0])\n",
    "    cols = ['cid']\n",
    "    cols.extend([var_name + str(i) for i in range(n)])\n",
    "    init = 0\n",
    "    for id_gr,p_gr in zip(ids,pred):\n",
    "        for i,p in zip(id_gr, p_gr):\n",
    "            if init == 0:\n",
    "                matrix = [np.append([i],p)]\n",
    "                init = 1\n",
    "            else:\n",
    "                matrix = np.concatenate((matrix, [np.append([i],p)]), axis=0)\n",
    "    df = pd.DataFrame(matrix, columns=cols)\n",
    "    # Make id column integer\n",
    "    df.cid = df.cid.astype(int)\n",
    "    # Drop duplicates\n",
    "    df = df.drop_duplicates('cid')\n",
    "    # Combine train and test predictions and input ID\n",
    "    df.insert(1, 'train', train)\n",
    "    return df\n",
    "\n",
    "# Get train and test predictions\n",
    "ydepth = pred_to_df(cid_train, train_pred, 'ydepth', True)\n",
    "y_test_test = pred_to_df(cid_test, test_pred, 'ydepth', False)\n",
    "# Combine\n",
    "ydepth = ydepth.append(y_test_test, ignore_index=True)"
   ]
  },
  {
   "cell_type": "markdown",
   "metadata": {},
   "source": [
    "### LSTM for users"
   ]
  },
  {
   "cell_type": "markdown",
   "metadata": {},
   "source": [
    "#### Get data"
   ]
  },
  {
   "cell_type": "markdown",
   "metadata": {},
   "source": [
    "#### Run model"
   ]
  },
  {
   "cell_type": "markdown",
   "metadata": {},
   "source": [
    "#### Get predictions"
   ]
  },
  {
   "cell_type": "markdown",
   "metadata": {},
   "source": [
    "## Combined Model"
   ]
  },
  {
   "cell_type": "markdown",
   "metadata": {},
   "source": [
    "### Merge data"
   ]
  },
  {
   "cell_type": "code",
   "execution_count": 370,
   "metadata": {},
   "outputs": [],
   "source": [
    "df_comb = pd.merge(static, ydepth, how='left', on='cid')"
   ]
  },
  {
   "cell_type": "markdown",
   "metadata": {},
   "source": [
    "### Preprocessing"
   ]
  },
  {
   "cell_type": "code",
   "execution_count": 371,
   "metadata": {},
   "outputs": [],
   "source": [
    "# Make x variables categorical with integer values\n",
    "def x_in_df_to_int(df, x):\n",
    "    df[x].fillna('Unknown')\n",
    "    df[x] = df[x].astype('category')\n",
    "    num = list(range(len(df[x].cat.categories)))\n",
    "    df[x] = df[x].cat.rename_categories(num)\n",
    "    df[x] = df[x].astype('int')\n",
    "    return df\n",
    "\n",
    "df_comb = x_in_df_to_int(df_comb, 'verified')\n",
    "df_comb = x_in_df_to_int(df_comb, 'category')"
   ]
  },
  {
   "cell_type": "code",
   "execution_count": 372,
   "metadata": {},
   "outputs": [],
   "source": [
    "# Drop NAs: Recall a few buckets were too small for LSTM --> obs removed --> resulting in NAs with merge --> drop\n",
    "df_comb = df_comb.dropna(axis=0, how='any')"
   ]
  },
  {
   "cell_type": "code",
   "execution_count": 373,
   "metadata": {},
   "outputs": [],
   "source": [
    "# Change format of y\n",
    "def var_to_binary_in_df(df, var, fct):\n",
    "    array = np.array([fct(df[var][0])])\n",
    "    for i in df[var][1:]:\n",
    "        array = np.concatenate((array, [fct(i)]), axis=0)\n",
    "    df[var] = array.tolist()\n",
    "    return df\n",
    "\n",
    "df_comb = var_to_binary_in_df(df_comb, 'veracity', veracity_to_categorical)"
   ]
  },
  {
   "cell_type": "code",
   "execution_count": 374,
   "metadata": {},
   "outputs": [],
   "source": [
    "# Split into training and test\n",
    "all_vars = list(df_comb.columns.values)\n",
    "cat_vars = ['category', 'verified']\n",
    "cont_vars = list(set(all_vars) - set(cat_vars) - set(['cid', 'veracity', 'train']))\n",
    "X_train_cat  = df_comb.loc[df_comb[\"train\"], cat_vars]\n",
    "X_test_cat  = df_comb.loc[df_comb[\"train\"], cat_vars]\n",
    "X_train_con  = df_comb.loc[df_comb[\"train\"], cont_vars]\n",
    "X_test_con  = df_comb.loc[df_comb[\"train\"], cont_vars]\n",
    "Y_train = df_comb.loc[df_comb[\"train\"], ['veracity']]\n",
    "Y_test = df_comb.loc[df_comb[\"train\"], ['veracity']]"
   ]
  },
  {
   "cell_type": "code",
   "execution_count": 353,
   "metadata": {},
   "outputs": [],
   "source": [
    "# Make categorical X to binary matrix\n",
    "def x_cat_binmatrix(X):\n",
    "    Xbin = pd.DataFrame(to_categorical(X.iloc[:,0]))\n",
    "    X_ = pd.DataFrame(data=X.iloc[:,~0])\n",
    "    for x in X_:\n",
    "        Xbin = np.concatenate((Xbin, to_categorical(X_[x])), axis=1)\n",
    "    return Xbin\n",
    "\n",
    "X_train_cat = x_cat_binmatrix(X_train_cat)\n",
    "X_test_cat = x_cat_binmatrix(X_test_cat)"
   ]
  },
  {
   "cell_type": "code",
   "execution_count": 375,
   "metadata": {},
   "outputs": [],
   "source": [
    "# Standardize data by train mean and standard dev.\n",
    "def stdx(x, mean, sd):\n",
    "    return (x - mean) / sd\n",
    "\n",
    "def std_train_test(df_train, df_test):\n",
    "    for x_train, x_test in zip(df_train, df_test):\n",
    "        mean = df_train[x_train].mean()\n",
    "        sd = df_train[x_train].std()\n",
    "        df_train[x_train] = stdx(df_train[x_train], mean, sd)\n",
    "        df_test[x_test] = stdx(df_test[x_test], mean, sd)\n",
    "    return df_train, df_test\n",
    "\n",
    "X_train_con, X_test_con = std_train_test(X_train_con, X_test_con)"
   ]
  },
  {
   "cell_type": "code",
   "execution_count": 376,
   "metadata": {},
   "outputs": [],
   "source": [
    "# Change datastructue df -> matrix (already done for categorical) \n",
    "X_train_con  = X_train_con.as_matrix()\n",
    "X_test_con = X_test_con.as_matrix()\n",
    "Y_train = Y_train.as_matrix()\n",
    "Y_test = Y_test.as_matrix()"
   ]
  },
  {
   "cell_type": "code",
   "execution_count": 377,
   "metadata": {},
   "outputs": [],
   "source": [
    "# Convert lists in Y to arrays\n",
    "def lists_in_array_to_arrays(narray):\n",
    "    matrix = np.array([np.asarray(narray[0][0])])\n",
    "    for lst in narray[1:]:\n",
    "        matrix = np.concatenate((matrix, [np.asarray(lst[0])]), axis=0)\n",
    "    return matrix\n",
    "\n",
    "Y_train = lists_in_array_to_arrays(Y_train)\n",
    "Y_test = lists_in_array_to_arrays(Y_test)"
   ]
  },
  {
   "cell_type": "markdown",
   "metadata": {},
   "source": [
    "### Modelling"
   ]
  },
  {
   "cell_type": "code",
   "execution_count": 378,
   "metadata": {},
   "outputs": [
    {
     "name": "stdout",
     "output_type": "stream",
     "text": [
      "Epoch 1/20\n",
      "20970/20970 [==============================] - 1s 68us/step - loss: 0.6670 - mean_squared_error: 0.1238 - acc: 0.7588\n",
      "Epoch 2/20\n",
      "20970/20970 [==============================] - 1s 48us/step - loss: 0.6416 - mean_squared_error: 0.1194 - acc: 0.7629\n",
      "Epoch 3/20\n",
      "20970/20970 [==============================] - 1s 47us/step - loss: 0.6288 - mean_squared_error: 0.1170 - acc: 0.7716\n",
      "Epoch 4/20\n",
      "20970/20970 [==============================] - 1s 48us/step - loss: 0.6184 - mean_squared_error: 0.1149 - acc: 0.7769\n",
      "Epoch 5/20\n",
      "20970/20970 [==============================] - 1s 47us/step - loss: 0.6089 - mean_squared_error: 0.1128 - acc: 0.7802\n",
      "Epoch 6/20\n",
      "20970/20970 [==============================] - 1s 48us/step - loss: 0.6020 - mean_squared_error: 0.1118 - acc: 0.7814\n",
      "Epoch 7/20\n",
      "20970/20970 [==============================] - 1s 48us/step - loss: 0.5964 - mean_squared_error: 0.1108 - acc: 0.7831\n",
      "Epoch 8/20\n",
      "20970/20970 [==============================] - 1s 48us/step - loss: 0.5928 - mean_squared_error: 0.1100 - acc: 0.7845\n",
      "Epoch 9/20\n",
      "20970/20970 [==============================] - 1s 49us/step - loss: 0.5882 - mean_squared_error: 0.1092 - acc: 0.7854\n",
      "Epoch 10/20\n",
      "20970/20970 [==============================] - 1s 50us/step - loss: 0.5850 - mean_squared_error: 0.1087 - acc: 0.7866\n",
      "Epoch 11/20\n",
      "20970/20970 [==============================] - 1s 64us/step - loss: 0.5831 - mean_squared_error: 0.1082 - acc: 0.7867\n",
      "Epoch 12/20\n",
      "20970/20970 [==============================] - 1s 53us/step - loss: 0.5793 - mean_squared_error: 0.1078 - acc: 0.7869\n",
      "Epoch 13/20\n",
      "20970/20970 [==============================] - 1s 51us/step - loss: 0.5780 - mean_squared_error: 0.1073 - acc: 0.7872\n",
      "Epoch 14/20\n",
      "20970/20970 [==============================] - 1s 51us/step - loss: 0.5744 - mean_squared_error: 0.1070 - acc: 0.7876\n",
      "Epoch 15/20\n",
      "20970/20970 [==============================] - 1s 51us/step - loss: 0.5727 - mean_squared_error: 0.1066 - acc: 0.7877\n",
      "Epoch 16/20\n",
      "20970/20970 [==============================] - 1s 52us/step - loss: 0.5716 - mean_squared_error: 0.1062 - acc: 0.7869\n",
      "Epoch 17/20\n",
      "20970/20970 [==============================] - 1s 51us/step - loss: 0.5677 - mean_squared_error: 0.1057 - acc: 0.7870\n",
      "Epoch 18/20\n",
      "20970/20970 [==============================] - 1s 53us/step - loss: 0.5661 - mean_squared_error: 0.1052 - acc: 0.7879\n",
      "Epoch 19/20\n",
      "20970/20970 [==============================] - 1s 52us/step - loss: 0.5660 - mean_squared_error: 0.1052 - acc: 0.7870\n",
      "Epoch 20/20\n",
      "20970/20970 [==============================] - 1s 53us/step - loss: 0.5640 - mean_squared_error: 0.1048 - acc: 0.7882\n"
     ]
    },
    {
     "data": {
      "text/plain": [
       "<keras.callbacks.History at 0x18634020f0>"
      ]
     },
     "execution_count": 378,
     "metadata": {},
     "output_type": "execute_result"
    }
   ],
   "source": [
    "cat_input = Input(shape=(X_train_cat.shape[1],), name='Categorial_input')\n",
    "con_input = Input(shape=(X_train_con.shape[1],), name='Continous_input')\n",
    "\n",
    "x = kerasconc([cat_input, con_input])\n",
    "x = Dense(64, activation='relu')(x)\n",
    "x = Dense(64, activation='relu')(x)\n",
    "x = Dense(64, activation='relu')(x)\n",
    "\n",
    "main_output = Dense(3, activation='softmax', name='main_output')(x) \n",
    "model_total = Model(inputs=[cat_input, con_input], outputs=[main_output])\n",
    "model_total.compile(optimizer='rmsprop', loss='categorical_crossentropy',metrics=['mse','accuracy'])\n",
    "model_total.fit([X_train_cat, X_train_con], \n",
    "                Y_train,\n",
    "                epochs=20, \n",
    "                batch_size=24)\n",
    "model_total.predict([X_test_cat, X_test_con],\n",
    "                   Y_test,\n",
    "                   batch_size=24)"
   ]
  },
  {
   "cell_type": "markdown",
   "metadata": {},
   "source": [
    "### Evaluation"
   ]
  },
  {
   "cell_type": "code",
   "execution_count": 380,
   "metadata": {},
   "outputs": [],
   "source": [
    "# Prediction\n",
    "ypred_con = model_total.predict([X_train_cat,X_train_con],batch_size = 42)"
   ]
  },
  {
   "cell_type": "code",
   "execution_count": 385,
   "metadata": {},
   "outputs": [
    {
     "data": {
      "image/png": "[encoded data removed]",
      "text/plain": [
       "<matplotlib.figure.Figure at 0x18726b80b8>"
      ]
     },
     "metadata": {},
     "output_type": "display_data"
    }
   ],
   "source": [
    "# Compute ROC curve and ROC area for each class\n",
    "fpr = dict()\n",
    "tpr = dict()\n",
    "roc_auc = dict()\n",
    "for i in range(3):\n",
    "    fpr[i], tpr[i], _ = roc_curve(Y_train[:, i], ypred_con[:,i])\n",
    "    roc_auc[i] = auc(fpr[i], tpr[i])\n",
    "\n",
    "# Compute micro-average ROC curve and ROC area\n",
    "fpr[\"micro\"], tpr[\"micro\"], _ = roc_curve(Y_train.ravel(), ypred_con.ravel())\n",
    "roc_auc[\"micro\"] = auc(fpr[\"micro\"], tpr[\"micro\"])\n",
    "\n",
    "# Compute macro-average ROC curve and ROC area\n",
    "n_classes = 3\n",
    "# First aggregate all false positive rates\n",
    "all_fpr = np.unique(np.concatenate([fpr[i] for i in range(n_classes)]))\n",
    "\n",
    "# Then interpolate all ROC curves at this points\n",
    "mean_tpr = np.zeros_like(all_fpr)\n",
    "for i in range(n_classes):\n",
    "    mean_tpr += interp(all_fpr, fpr[i], tpr[i])\n",
    "\n",
    "# Finally average it and compute AUC\n",
    "mean_tpr /= n_classes\n",
    "\n",
    "fpr[\"macro\"] = all_fpr\n",
    "tpr[\"macro\"] = mean_tpr\n",
    "roc_auc[\"macro\"] = auc(fpr[\"macro\"], tpr[\"macro\"])\n",
    "\n",
    "# Plot parameters\n",
    "lw = 1\n",
    "\n",
    "# Plot all ROC curves\n",
    "plt.figure(figsize=(15,10))\n",
    "plt.plot(fpr[\"macro\"], tpr[\"macro\"],\n",
    "         label='macro-average ROC curve (area = {0:0.2f})'\n",
    "               ''.format(roc_auc[\"macro\"]),\n",
    "         color='navy', linestyle=':', linewidth=4)\n",
    "\n",
    "plt.plot(fpr[2], tpr[2], color = 'aqua', lw=lw,\n",
    "            label='ROC curve of class True (area = {1:0.2f})'\n",
    "             ''.format(2, roc_auc[2]))\n",
    "plt.plot(fpr[0], tpr[0], color= 'darkorange', lw=lw,\n",
    "            label='ROC curve of class False (area = {1:0.2f})'\n",
    "             ''.format(0, roc_auc[0]))\n",
    "plt.plot(fpr[1], tpr[1], color= 'cornflowerblue', lw=lw,\n",
    "            label='ROC curve of class Mixed (area = {1:0.2f})' #check whether coding is correct\n",
    "             ''.format(1, roc_auc[1]))\n",
    "\n",
    "plt.plot([0, 1], [0, 1], 'k--', lw=lw)\n",
    "plt.xlim([0.0, 1.0])\n",
    "plt.ylim([0.0, 1.05])\n",
    "plt.xlabel('False Positive Rate')\n",
    "plt.ylabel('True Positive Rate')\n",
    "plt.title('ROC Curve True, False and Mixed news based on tweet cascades')\n",
    "plt.legend(loc=\"lower right\")\n",
    "plt.show()"
   ]
  },
  {
   "cell_type": "code",
   "execution_count": null,
   "metadata": {},
   "outputs": [],
   "source": []
  }
 ],
 "metadata": {
  "kernelspec": {
   "display_name": "Python 3",
   "language": "python",
   "name": "python3"
  },
  "language_info": {
   "codemirror_mode": {
    "name": "ipython",
    "version": 3
   },
   "file_extension": ".py",
   "mimetype": "text/x-python",
   "name": "python",
   "nbconvert_exporter": "python",
   "pygments_lexer": "ipython3",
   "version": "3.6.4"
  }
 },
 "nbformat": 4,
 "nbformat_minor": 2
}
