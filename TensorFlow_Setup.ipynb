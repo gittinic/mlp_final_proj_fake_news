{
 "cells": [
  {
   "cell_type": "markdown",
   "metadata": {},
   "source": [
    "# Combined Categorical and Continious model information defiusion in tweet cascades"
   ]
  },
  {
   "cell_type": "code",
   "execution_count": 1,
   "metadata": {},
   "outputs": [
    {
     "name": "stdout",
     "output_type": "stream",
     "text": [
      "WARNING:tensorflow:From /Users/jaspermeijering/anaconda3/lib/python3.6/site-packages/tensorflow/contrib/learn/python/learn/datasets/base.py:198: retry (from tensorflow.contrib.learn.python.learn.datasets.base) is deprecated and will be removed in a future version.\n",
      "Instructions for updating:\n",
      "Use the retry module or similar alternatives.\n",
      "TensorFlow version: 1.7.0\n",
      "Eager execution: False\n"
     ]
    },
    {
     "name": "stderr",
     "output_type": "stream",
     "text": [
      "Using TensorFlow backend.\n"
     ]
    }
   ],
   "source": [
    "#import dependencies\n",
    "from __future__ import absolute_import, division, print_function\n",
    "\n",
    "import os\n",
    "import matplotlib.pyplot as plt\n",
    "\n",
    "import tensorflow as tf\n",
    "import tensorflow.contrib.eager as tfe\n",
    "\n",
    "#tf.enable_eager_execution() # must be run on a start up program\n",
    "\n",
    "print(\"TensorFlow version: {}\".format(tf.VERSION))\n",
    "print(\"Eager execution: {}\".format(tf.executing_eagerly()))\n",
    "\n",
    "import datetime\n",
    "import pandas as pd\n",
    "import numpy as np\n",
    "import random\n",
    "import pydot\n",
    "import graphviz\n",
    "import keras\n",
    "from keras.models import Sequential\n",
    "from keras.layers import Dense, Activation\n",
    "from keras.utils import plot_model\n",
    "from IPython.display import Image\n"
   ]
  },
  {
   "cell_type": "code",
   "execution_count": 2,
   "metadata": {
    "collapsed": true
   },
   "outputs": [],
   "source": [
    "# Resources used: \n",
    "#https://www.tensorflow.org/get_started/eager"
   ]
  },
  {
   "cell_type": "code",
   "execution_count": 3,
   "metadata": {
    "scrolled": false
   },
   "outputs": [
    {
     "data": {
      "text/html": [
       "<div>\n",
       "<style>\n",
       "    .dataframe thead tr:only-child th {\n",
       "        text-align: right;\n",
       "    }\n",
       "\n",
       "    .dataframe thead th {\n",
       "        text-align: left;\n",
       "    }\n",
       "\n",
       "    .dataframe tbody tr th {\n",
       "        vertical-align: top;\n",
       "    }\n",
       "</style>\n",
       "<table border=\"1\" class=\"dataframe\">\n",
       "  <thead>\n",
       "    <tr style=\"text-align: right;\">\n",
       "      <th></th>\n",
       "      <th>breadth</th>\n",
       "      <th>category</th>\n",
       "      <th>cid</th>\n",
       "      <th>day</th>\n",
       "      <th>depth</th>\n",
       "      <th>engangement</th>\n",
       "      <th>hour</th>\n",
       "      <th>nfollowees</th>\n",
       "      <th>nfollowers</th>\n",
       "      <th>size</th>\n",
       "      <th>veracity</th>\n",
       "      <th>verified</th>\n",
       "      <th>virality</th>\n",
       "    </tr>\n",
       "  </thead>\n",
       "  <tbody>\n",
       "    <tr>\n",
       "      <th>0</th>\n",
       "      <td>1</td>\n",
       "      <td>Politics</td>\n",
       "      <td>1</td>\n",
       "      <td>22</td>\n",
       "      <td>0</td>\n",
       "      <td>7.092405</td>\n",
       "      <td>21</td>\n",
       "      <td>236.0</td>\n",
       "      <td>164.0</td>\n",
       "      <td>1</td>\n",
       "      <td>FALSE</td>\n",
       "      <td>False</td>\n",
       "      <td>NaN</td>\n",
       "    </tr>\n",
       "    <tr>\n",
       "      <th>1</th>\n",
       "      <td>1</td>\n",
       "      <td>Politics</td>\n",
       "      <td>10</td>\n",
       "      <td>23</td>\n",
       "      <td>0</td>\n",
       "      <td>8.394500</td>\n",
       "      <td>14</td>\n",
       "      <td>1999.0</td>\n",
       "      <td>870.0</td>\n",
       "      <td>1</td>\n",
       "      <td>FALSE</td>\n",
       "      <td>False</td>\n",
       "      <td>NaN</td>\n",
       "    </tr>\n",
       "    <tr>\n",
       "      <th>2</th>\n",
       "      <td>1</td>\n",
       "      <td>Politics</td>\n",
       "      <td>100</td>\n",
       "      <td>9</td>\n",
       "      <td>0</td>\n",
       "      <td>6.729679</td>\n",
       "      <td>16</td>\n",
       "      <td>1982.0</td>\n",
       "      <td>452.0</td>\n",
       "      <td>1</td>\n",
       "      <td>FALSE</td>\n",
       "      <td>False</td>\n",
       "      <td>NaN</td>\n",
       "    </tr>\n",
       "    <tr>\n",
       "      <th>3</th>\n",
       "      <td>1</td>\n",
       "      <td>Politics</td>\n",
       "      <td>1000</td>\n",
       "      <td>15</td>\n",
       "      <td>0</td>\n",
       "      <td>0.186418</td>\n",
       "      <td>20</td>\n",
       "      <td>55.0</td>\n",
       "      <td>5.0</td>\n",
       "      <td>1</td>\n",
       "      <td>FALSE</td>\n",
       "      <td>False</td>\n",
       "      <td>NaN</td>\n",
       "    </tr>\n",
       "    <tr>\n",
       "      <th>4</th>\n",
       "      <td>1</td>\n",
       "      <td>Politics</td>\n",
       "      <td>10000</td>\n",
       "      <td>14</td>\n",
       "      <td>0</td>\n",
       "      <td>1.425915</td>\n",
       "      <td>14</td>\n",
       "      <td>129.0</td>\n",
       "      <td>95.0</td>\n",
       "      <td>1</td>\n",
       "      <td>FALSE</td>\n",
       "      <td>False</td>\n",
       "      <td>NaN</td>\n",
       "    </tr>\n",
       "  </tbody>\n",
       "</table>\n",
       "</div>"
      ],
      "text/plain": [
       "   breadth  category    cid  day  depth  engangement  hour  nfollowees  \\\n",
       "0        1  Politics      1   22      0     7.092405    21       236.0   \n",
       "1        1  Politics     10   23      0     8.394500    14      1999.0   \n",
       "2        1  Politics    100    9      0     6.729679    16      1982.0   \n",
       "3        1  Politics   1000   15      0     0.186418    20        55.0   \n",
       "4        1  Politics  10000   14      0     1.425915    14       129.0   \n",
       "\n",
       "   nfollowers  size veracity verified  virality  \n",
       "0       164.0     1    FALSE    False       NaN  \n",
       "1       870.0     1    FALSE    False       NaN  \n",
       "2       452.0     1    FALSE    False       NaN  \n",
       "3         5.0     1    FALSE    False       NaN  \n",
       "4        95.0     1    FALSE    False       NaN  "
      ]
     },
     "execution_count": 3,
     "metadata": {},
     "output_type": "execute_result"
    }
   ],
   "source": [
    "# load in the data\n",
    "\n",
    "metadata_file = '/Users/jaspermeijering/Google Drive/a Study/EPA Study Abroad - Carnegie Mellon University/Courses/CMU - 95845 - Applied Analytics The Machine Learning Pipeline/Machine Learning Pipeline Final Project/Data/FalseNews_Code_Data/data/metadata_anon.txt'\n",
    "\n",
    "# Read meta data \n",
    "fin = open(metadata_file,'r')\n",
    "lines = fin.readlines()\n",
    "fin.close()\n",
    "cascade_id2metadata={}\n",
    "for line in lines:\n",
    "    line = line.replace('\\n','')\n",
    "    item = eval(line)\n",
    "    cascade_id2metadata[item[0]] = item[1]\n",
    "\n",
    "    # Get static measures\n",
    "veracity = []\n",
    "virality = []\n",
    "depth = []\n",
    "breadth = []\n",
    "size = []\n",
    "verified = []\n",
    "nfollowers = []\n",
    "nfollowees = []\n",
    "engagement = []\n",
    "category = []\n",
    "day = []\n",
    "hour = []\n",
    "cascadeID= []\n",
    "\n",
    "for cascade,metadata in cascade_id2metadata.items():\n",
    "    veracity.append(metadata['veracity'])\n",
    "    virality.append(metadata['virality'])\n",
    "    depth.append(metadata['depth'])\n",
    "    breadth.append(metadata['max_breadth'])\n",
    "    size.append(metadata['size'])\n",
    "    verified.append(metadata['verified_list'][0])\n",
    "    nfollowers.append(metadata['num_followers_list'][0])\n",
    "    nfollowees.append(metadata['num_followees_list'][0])\n",
    "    engagement.append(metadata['engagement_list'][0])\n",
    "    category.append(metadata['rumor_category'])\n",
    "    day.append(metadata['start_date'].day)\n",
    "    hour.append(metadata['start_date'].hour)\n",
    "    cascadeID.append(cascade) # for merging models\n",
    "\n",
    "# Convert to data frame\n",
    "df = pd.DataFrame({'cid':cascadeID,'veracity': veracity, 'virality': virality, 'depth': depth, 'breadth': breadth, 'size': size, 'verified': verified, 'nfollowers': nfollowers, \n",
    "                   'nfollowees': nfollowees, 'engangement': engagement, 'category': category, 'day': day, 'hour': hour})\n",
    "\n",
    "# Inspect\n",
    "df.head(5)\n"
   ]
  },
  {
   "cell_type": "code",
   "execution_count": 4,
   "metadata": {
    "collapsed": true
   },
   "outputs": [],
   "source": [
    "df_saved = df\n"
   ]
  },
  {
   "cell_type": "code",
   "execution_count": 5,
   "metadata": {
    "collapsed": true
   },
   "outputs": [],
   "source": [
    "df = df_saved\n"
   ]
  },
  {
   "cell_type": "markdown",
   "metadata": {},
   "source": [
    "### Make data numeric"
   ]
  },
  {
   "cell_type": "code",
   "execution_count": 6,
   "metadata": {
    "scrolled": false
   },
   "outputs": [
    {
     "name": "stdout",
     "output_type": "stream",
     "text": [
      "Transformed categories to numeric values, this is how they match [Politics, Viral Photos/Stories/Urban Legends, War/Terrorism/Shootings, Science/Nature/Tech/Food/Health, Entertainment, Business, Natural Disasters]\n",
      "Categories (7, object): [Politics, Viral Photos/Stories/Urban Legends, War/Terrorism/Shootings, Science/Nature/Tech/Food/Health, Entertainment, Business, Natural Disasters] [4 6 7 5 2 1 3]\n",
      "Transformed veracity to numeric values, this is how they match [FALSE, TRUE, MIXED]\n",
      "Categories (3, object): [FALSE, TRUE, MIXED] [1 3 2]\n",
      "Transformed verified to numeric values, this is how they match ['None'] [-9223372036854775808]\n"
     ]
    },
    {
     "data": {
      "text/html": [
       "<div>\n",
       "<style>\n",
       "    .dataframe thead tr:only-child th {\n",
       "        text-align: right;\n",
       "    }\n",
       "\n",
       "    .dataframe thead th {\n",
       "        text-align: left;\n",
       "    }\n",
       "\n",
       "    .dataframe tbody tr th {\n",
       "        vertical-align: top;\n",
       "    }\n",
       "</style>\n",
       "<table border=\"1\" class=\"dataframe\">\n",
       "  <thead>\n",
       "    <tr style=\"text-align: right;\">\n",
       "      <th></th>\n",
       "      <th>breadth</th>\n",
       "      <th>category</th>\n",
       "      <th>cid</th>\n",
       "      <th>day</th>\n",
       "      <th>depth</th>\n",
       "      <th>engangement</th>\n",
       "      <th>hour</th>\n",
       "      <th>nfollowees</th>\n",
       "      <th>nfollowers</th>\n",
       "      <th>size</th>\n",
       "      <th>veracity</th>\n",
       "      <th>verified</th>\n",
       "      <th>virality</th>\n",
       "      <th>category_num</th>\n",
       "      <th>veracity_num</th>\n",
       "      <th>verified_cat</th>\n",
       "      <th>verified_num</th>\n",
       "    </tr>\n",
       "  </thead>\n",
       "  <tbody>\n",
       "    <tr>\n",
       "      <th>0</th>\n",
       "      <td>1</td>\n",
       "      <td>Politics</td>\n",
       "      <td>1</td>\n",
       "      <td>22</td>\n",
       "      <td>0</td>\n",
       "      <td>7.092405</td>\n",
       "      <td>21</td>\n",
       "      <td>236.0</td>\n",
       "      <td>164.0</td>\n",
       "      <td>1</td>\n",
       "      <td>FALSE</td>\n",
       "      <td>None</td>\n",
       "      <td>NaN</td>\n",
       "      <td>4</td>\n",
       "      <td>1</td>\n",
       "      <td>NaN</td>\n",
       "      <td>-9223372036854775808</td>\n",
       "    </tr>\n",
       "    <tr>\n",
       "      <th>1</th>\n",
       "      <td>1</td>\n",
       "      <td>Politics</td>\n",
       "      <td>10</td>\n",
       "      <td>23</td>\n",
       "      <td>0</td>\n",
       "      <td>8.394500</td>\n",
       "      <td>14</td>\n",
       "      <td>1999.0</td>\n",
       "      <td>870.0</td>\n",
       "      <td>1</td>\n",
       "      <td>FALSE</td>\n",
       "      <td>None</td>\n",
       "      <td>NaN</td>\n",
       "      <td>4</td>\n",
       "      <td>1</td>\n",
       "      <td>NaN</td>\n",
       "      <td>-9223372036854775808</td>\n",
       "    </tr>\n",
       "    <tr>\n",
       "      <th>2</th>\n",
       "      <td>1</td>\n",
       "      <td>Politics</td>\n",
       "      <td>100</td>\n",
       "      <td>9</td>\n",
       "      <td>0</td>\n",
       "      <td>6.729679</td>\n",
       "      <td>16</td>\n",
       "      <td>1982.0</td>\n",
       "      <td>452.0</td>\n",
       "      <td>1</td>\n",
       "      <td>FALSE</td>\n",
       "      <td>None</td>\n",
       "      <td>NaN</td>\n",
       "      <td>4</td>\n",
       "      <td>1</td>\n",
       "      <td>NaN</td>\n",
       "      <td>-9223372036854775808</td>\n",
       "    </tr>\n",
       "    <tr>\n",
       "      <th>3</th>\n",
       "      <td>1</td>\n",
       "      <td>Politics</td>\n",
       "      <td>1000</td>\n",
       "      <td>15</td>\n",
       "      <td>0</td>\n",
       "      <td>0.186418</td>\n",
       "      <td>20</td>\n",
       "      <td>55.0</td>\n",
       "      <td>5.0</td>\n",
       "      <td>1</td>\n",
       "      <td>FALSE</td>\n",
       "      <td>None</td>\n",
       "      <td>NaN</td>\n",
       "      <td>4</td>\n",
       "      <td>1</td>\n",
       "      <td>NaN</td>\n",
       "      <td>-9223372036854775808</td>\n",
       "    </tr>\n",
       "    <tr>\n",
       "      <th>4</th>\n",
       "      <td>1</td>\n",
       "      <td>Politics</td>\n",
       "      <td>10000</td>\n",
       "      <td>14</td>\n",
       "      <td>0</td>\n",
       "      <td>1.425915</td>\n",
       "      <td>14</td>\n",
       "      <td>129.0</td>\n",
       "      <td>95.0</td>\n",
       "      <td>1</td>\n",
       "      <td>FALSE</td>\n",
       "      <td>None</td>\n",
       "      <td>NaN</td>\n",
       "      <td>4</td>\n",
       "      <td>1</td>\n",
       "      <td>NaN</td>\n",
       "      <td>-9223372036854775808</td>\n",
       "    </tr>\n",
       "  </tbody>\n",
       "</table>\n",
       "</div>"
      ],
      "text/plain": [
       "   breadth  category    cid  day  depth  engangement  hour  nfollowees  \\\n",
       "0        1  Politics      1   22      0     7.092405    21       236.0   \n",
       "1        1  Politics     10   23      0     8.394500    14      1999.0   \n",
       "2        1  Politics    100    9      0     6.729679    16      1982.0   \n",
       "3        1  Politics   1000   15      0     0.186418    20        55.0   \n",
       "4        1  Politics  10000   14      0     1.425915    14       129.0   \n",
       "\n",
       "   nfollowers  size veracity verified  virality  category_num  veracity_num  \\\n",
       "0       164.0     1    FALSE     None       NaN             4             1   \n",
       "1       870.0     1    FALSE     None       NaN             4             1   \n",
       "2       452.0     1    FALSE     None       NaN             4             1   \n",
       "3         5.0     1    FALSE     None       NaN             4             1   \n",
       "4        95.0     1    FALSE     None       NaN             4             1   \n",
       "\n",
       "  verified_cat         verified_num  \n",
       "0          NaN -9223372036854775808  \n",
       "1          NaN -9223372036854775808  \n",
       "2          NaN -9223372036854775808  \n",
       "3          NaN -9223372036854775808  \n",
       "4          NaN -9223372036854775808  "
      ]
     },
     "execution_count": 6,
     "metadata": {},
     "output_type": "execute_result"
    }
   ],
   "source": [
    "# Make category numeric\n",
    "df[\"category\"] = df[\"category\"].astype('category')\n",
    "df[\"category_num\"] = df.category.cat.rename_categories([1,2,3,4,5,6,7])\n",
    "df[\"category_num\"] = df[\"category_num\"].astype('int')\n",
    "print(\"Transformed categories to numeric values, this is how they match\",df.category.unique(),df.category_num.unique())\n",
    "\n",
    "# Make veracity numeric\n",
    "df[\"veracity\"] = df[\"veracity\"].astype('category')\n",
    "df[\"veracity_num\"] = df.veracity.cat.rename_categories([1,2,3])\n",
    "df[\"veracity_num\"] = df[\"veracity_num\"].astype('int')\n",
    "print(\"Transformed veracity to numeric values, this is how they match\",df.veracity.unique(),df.veracity_num.unique())\n",
    "\n",
    "# Make verified numeric\n",
    "df[\"verified_cat\"] = df[\"verified\"].astype('category')\n",
    "df[\"verified_cat\"] = df[\"verified_cat\"].cat.set_categories([\"True\",\"False\",\"None\"])\n",
    "#df[\"verified_cat\"].isnull().sum() # 136 nan / none values for verified\n",
    "df.loc[df[\"verified_cat\"].isnull(),'verified'] = \"None\" # -> leave these cascades in. # this is wrong\n",
    "df[\"verified_num\"] = df.verified_cat.cat.rename_categories([1,2,3])\n",
    "df[\"verified_num\"] = df[\"verified_num\"].astype('int')\n",
    "print(\"Transformed verified to numeric values, this is how they match\",df.verified.unique(),df.verified_num.unique())\n",
    "\n",
    "#df.dtypes\n",
    "df.head()\n"
   ]
  },
  {
   "cell_type": "markdown",
   "metadata": {},
   "source": [
    "# verified is wrong"
   ]
  },
  {
   "cell_type": "markdown",
   "metadata": {},
   "source": [
    "### Drop NaN values for virality. "
   ]
  },
  {
   "cell_type": "code",
   "execution_count": 7,
   "metadata": {},
   "outputs": [
    {
     "name": "stdout",
     "output_type": "stream",
     "text": [
      "84220 of 126301 cascades are single tweet cascades. These tweets were not retweeded. We are only interessted in rumours that have been spread and want to predict the veracity based on how information deffused These sigle tweets will therefor be dropped from the dataset.\n"
     ]
    },
    {
     "data": {
      "text/html": [
       "<div>\n",
       "<style>\n",
       "    .dataframe thead tr:only-child th {\n",
       "        text-align: right;\n",
       "    }\n",
       "\n",
       "    .dataframe thead th {\n",
       "        text-align: left;\n",
       "    }\n",
       "\n",
       "    .dataframe tbody tr th {\n",
       "        vertical-align: top;\n",
       "    }\n",
       "</style>\n",
       "<table border=\"1\" class=\"dataframe\">\n",
       "  <thead>\n",
       "    <tr style=\"text-align: right;\">\n",
       "      <th></th>\n",
       "      <th>breadth</th>\n",
       "      <th>category</th>\n",
       "      <th>cid</th>\n",
       "      <th>day</th>\n",
       "      <th>depth</th>\n",
       "      <th>engangement</th>\n",
       "      <th>hour</th>\n",
       "      <th>nfollowees</th>\n",
       "      <th>nfollowers</th>\n",
       "      <th>size</th>\n",
       "      <th>veracity</th>\n",
       "      <th>verified</th>\n",
       "      <th>virality</th>\n",
       "      <th>category_num</th>\n",
       "      <th>veracity_num</th>\n",
       "      <th>verified_cat</th>\n",
       "      <th>verified_num</th>\n",
       "    </tr>\n",
       "  </thead>\n",
       "  <tbody>\n",
       "    <tr>\n",
       "      <th>7777</th>\n",
       "      <td>10703</td>\n",
       "      <td>Viral Photos/Stories/Urban Legends</td>\n",
       "      <td>106998</td>\n",
       "      <td>28</td>\n",
       "      <td>11</td>\n",
       "      <td>25.799399</td>\n",
       "      <td>9</td>\n",
       "      <td>186.0</td>\n",
       "      <td>672.0</td>\n",
       "      <td>23228</td>\n",
       "      <td>MIXED</td>\n",
       "      <td>None</td>\n",
       "      <td>4.003857</td>\n",
       "      <td>6</td>\n",
       "      <td>2</td>\n",
       "      <td>NaN</td>\n",
       "      <td>-9223372036854775808</td>\n",
       "    </tr>\n",
       "    <tr>\n",
       "      <th>7778</th>\n",
       "      <td>11783</td>\n",
       "      <td>Science/Nature/Tech/Food/Health</td>\n",
       "      <td>106999</td>\n",
       "      <td>1</td>\n",
       "      <td>9</td>\n",
       "      <td>10.811974</td>\n",
       "      <td>6</td>\n",
       "      <td>313.0</td>\n",
       "      <td>380.0</td>\n",
       "      <td>14827</td>\n",
       "      <td>MIXED</td>\n",
       "      <td>None</td>\n",
       "      <td>2.535338</td>\n",
       "      <td>5</td>\n",
       "      <td>2</td>\n",
       "      <td>NaN</td>\n",
       "      <td>-9223372036854775808</td>\n",
       "    </tr>\n",
       "    <tr>\n",
       "      <th>7782</th>\n",
       "      <td>6504</td>\n",
       "      <td>Viral Photos/Stories/Urban Legends</td>\n",
       "      <td>107000</td>\n",
       "      <td>27</td>\n",
       "      <td>13</td>\n",
       "      <td>15.395237</td>\n",
       "      <td>21</td>\n",
       "      <td>518.0</td>\n",
       "      <td>504.0</td>\n",
       "      <td>14129</td>\n",
       "      <td>MIXED</td>\n",
       "      <td>None</td>\n",
       "      <td>4.019705</td>\n",
       "      <td>6</td>\n",
       "      <td>2</td>\n",
       "      <td>NaN</td>\n",
       "      <td>-9223372036854775808</td>\n",
       "    </tr>\n",
       "    <tr>\n",
       "      <th>7783</th>\n",
       "      <td>5772</td>\n",
       "      <td>Viral Photos/Stories/Urban Legends</td>\n",
       "      <td>107001</td>\n",
       "      <td>22</td>\n",
       "      <td>8</td>\n",
       "      <td>3.140842</td>\n",
       "      <td>4</td>\n",
       "      <td>189.0</td>\n",
       "      <td>228.0</td>\n",
       "      <td>9972</td>\n",
       "      <td>MIXED</td>\n",
       "      <td>None</td>\n",
       "      <td>3.271008</td>\n",
       "      <td>6</td>\n",
       "      <td>2</td>\n",
       "      <td>NaN</td>\n",
       "      <td>-9223372036854775808</td>\n",
       "    </tr>\n",
       "    <tr>\n",
       "      <th>7784</th>\n",
       "      <td>6041</td>\n",
       "      <td>Viral Photos/Stories/Urban Legends</td>\n",
       "      <td>107002</td>\n",
       "      <td>21</td>\n",
       "      <td>8</td>\n",
       "      <td>5.160261</td>\n",
       "      <td>23</td>\n",
       "      <td>174.0</td>\n",
       "      <td>110.0</td>\n",
       "      <td>9526</td>\n",
       "      <td>MIXED</td>\n",
       "      <td>None</td>\n",
       "      <td>3.115942</td>\n",
       "      <td>6</td>\n",
       "      <td>2</td>\n",
       "      <td>NaN</td>\n",
       "      <td>-9223372036854775808</td>\n",
       "    </tr>\n",
       "    <tr>\n",
       "      <th>7785</th>\n",
       "      <td>6160</td>\n",
       "      <td>Entertainment</td>\n",
       "      <td>107003</td>\n",
       "      <td>10</td>\n",
       "      <td>8</td>\n",
       "      <td>11.310233</td>\n",
       "      <td>0</td>\n",
       "      <td>846.0</td>\n",
       "      <td>842.0</td>\n",
       "      <td>9124</td>\n",
       "      <td>MIXED</td>\n",
       "      <td>None</td>\n",
       "      <td>2.971147</td>\n",
       "      <td>2</td>\n",
       "      <td>2</td>\n",
       "      <td>NaN</td>\n",
       "      <td>-9223372036854775808</td>\n",
       "    </tr>\n",
       "    <tr>\n",
       "      <th>7786</th>\n",
       "      <td>2110</td>\n",
       "      <td>Viral Photos/Stories/Urban Legends</td>\n",
       "      <td>107004</td>\n",
       "      <td>28</td>\n",
       "      <td>14</td>\n",
       "      <td>20.554899</td>\n",
       "      <td>6</td>\n",
       "      <td>542.0</td>\n",
       "      <td>716.0</td>\n",
       "      <td>6203</td>\n",
       "      <td>MIXED</td>\n",
       "      <td>None</td>\n",
       "      <td>5.110521</td>\n",
       "      <td>6</td>\n",
       "      <td>2</td>\n",
       "      <td>NaN</td>\n",
       "      <td>-9223372036854775808</td>\n",
       "    </tr>\n",
       "    <tr>\n",
       "      <th>7787</th>\n",
       "      <td>3092</td>\n",
       "      <td>Viral Photos/Stories/Urban Legends</td>\n",
       "      <td>107005</td>\n",
       "      <td>13</td>\n",
       "      <td>10</td>\n",
       "      <td>4.256828</td>\n",
       "      <td>4</td>\n",
       "      <td>364.0</td>\n",
       "      <td>179.0</td>\n",
       "      <td>5882</td>\n",
       "      <td>MIXED</td>\n",
       "      <td>None</td>\n",
       "      <td>3.633757</td>\n",
       "      <td>6</td>\n",
       "      <td>2</td>\n",
       "      <td>NaN</td>\n",
       "      <td>-9223372036854775808</td>\n",
       "    </tr>\n",
       "    <tr>\n",
       "      <th>7788</th>\n",
       "      <td>4971</td>\n",
       "      <td>Politics</td>\n",
       "      <td>107006</td>\n",
       "      <td>29</td>\n",
       "      <td>3</td>\n",
       "      <td>4.325858</td>\n",
       "      <td>15</td>\n",
       "      <td>417.0</td>\n",
       "      <td>637.0</td>\n",
       "      <td>5075</td>\n",
       "      <td>MIXED</td>\n",
       "      <td>None</td>\n",
       "      <td>2.041730</td>\n",
       "      <td>4</td>\n",
       "      <td>2</td>\n",
       "      <td>NaN</td>\n",
       "      <td>-9223372036854775808</td>\n",
       "    </tr>\n",
       "    <tr>\n",
       "      <th>7789</th>\n",
       "      <td>3374</td>\n",
       "      <td>Viral Photos/Stories/Urban Legends</td>\n",
       "      <td>107007</td>\n",
       "      <td>11</td>\n",
       "      <td>5</td>\n",
       "      <td>29.216077</td>\n",
       "      <td>13</td>\n",
       "      <td>910.0</td>\n",
       "      <td>1140.0</td>\n",
       "      <td>4305</td>\n",
       "      <td>MIXED</td>\n",
       "      <td>None</td>\n",
       "      <td>2.584301</td>\n",
       "      <td>6</td>\n",
       "      <td>2</td>\n",
       "      <td>NaN</td>\n",
       "      <td>-9223372036854775808</td>\n",
       "    </tr>\n",
       "  </tbody>\n",
       "</table>\n",
       "</div>"
      ],
      "text/plain": [
       "      breadth                            category     cid  day  depth  \\\n",
       "7777    10703  Viral Photos/Stories/Urban Legends  106998   28     11   \n",
       "7778    11783     Science/Nature/Tech/Food/Health  106999    1      9   \n",
       "7782     6504  Viral Photos/Stories/Urban Legends  107000   27     13   \n",
       "7783     5772  Viral Photos/Stories/Urban Legends  107001   22      8   \n",
       "7784     6041  Viral Photos/Stories/Urban Legends  107002   21      8   \n",
       "7785     6160                       Entertainment  107003   10      8   \n",
       "7786     2110  Viral Photos/Stories/Urban Legends  107004   28     14   \n",
       "7787     3092  Viral Photos/Stories/Urban Legends  107005   13     10   \n",
       "7788     4971                            Politics  107006   29      3   \n",
       "7789     3374  Viral Photos/Stories/Urban Legends  107007   11      5   \n",
       "\n",
       "      engangement  hour  nfollowees  nfollowers   size veracity verified  \\\n",
       "7777    25.799399     9       186.0       672.0  23228    MIXED     None   \n",
       "7778    10.811974     6       313.0       380.0  14827    MIXED     None   \n",
       "7782    15.395237    21       518.0       504.0  14129    MIXED     None   \n",
       "7783     3.140842     4       189.0       228.0   9972    MIXED     None   \n",
       "7784     5.160261    23       174.0       110.0   9526    MIXED     None   \n",
       "7785    11.310233     0       846.0       842.0   9124    MIXED     None   \n",
       "7786    20.554899     6       542.0       716.0   6203    MIXED     None   \n",
       "7787     4.256828     4       364.0       179.0   5882    MIXED     None   \n",
       "7788     4.325858    15       417.0       637.0   5075    MIXED     None   \n",
       "7789    29.216077    13       910.0      1140.0   4305    MIXED     None   \n",
       "\n",
       "      virality  category_num  veracity_num verified_cat         verified_num  \n",
       "7777  4.003857             6             2          NaN -9223372036854775808  \n",
       "7778  2.535338             5             2          NaN -9223372036854775808  \n",
       "7782  4.019705             6             2          NaN -9223372036854775808  \n",
       "7783  3.271008             6             2          NaN -9223372036854775808  \n",
       "7784  3.115942             6             2          NaN -9223372036854775808  \n",
       "7785  2.971147             2             2          NaN -9223372036854775808  \n",
       "7786  5.110521             6             2          NaN -9223372036854775808  \n",
       "7787  3.633757             6             2          NaN -9223372036854775808  \n",
       "7788  2.041730             4             2          NaN -9223372036854775808  \n",
       "7789  2.584301             6             2          NaN -9223372036854775808  "
      ]
     },
     "execution_count": 7,
     "metadata": {},
     "output_type": "execute_result"
    }
   ],
   "source": [
    "print(df.virality.isnull().sum(),\"of\",len(df),\"cascades are single tweet cascades. These tweets were not retweeded. \\\n",
    "We are only interessted in rumours that have been spread and want to predict the veracity based on how information deffused \\\n",
    "These sigle tweets will therefor be dropped from the dataset.\")\n",
    "\n",
    "df = df[np.isfinite(df['virality'])]\n",
    "df.head(10)"
   ]
  },
  {
   "cell_type": "markdown",
   "metadata": {},
   "source": [
    "### Only keep relevant columns"
   ]
  },
  {
   "cell_type": "code",
   "execution_count": 8,
   "metadata": {
    "collapsed": true,
    "scrolled": false
   },
   "outputs": [],
   "source": [
    "# Only keep relevant columns\n",
    "column_names_df = ['cid','veracity_num','breadth', 'category_num', 'depth', 'engangement', 'day','nfollowees', 'nfollowers', 'size', 'verified_num', 'virality']\n",
    "column_names_x =['cid','breadth', 'category_num', 'depth', 'engangement', 'day','nfollowees', 'nfollowers', 'size', 'verified_num', 'virality']\n",
    "column_names_x_cat = ['category_num','day','verified_num','cid'] \n",
    "column_names_x_con = ['breadth', 'depth', 'engangement', 'nfollowees', 'nfollowers', 'size', 'virality'] #add cid\n",
    "column_names_y =['veracity_num'] # ['cid','veracity_num']\n",
    "\n",
    "df = df.loc[:,column_names_df]\n",
    "#df.head()\n"
   ]
  },
  {
   "cell_type": "code",
   "execution_count": 9,
   "metadata": {},
   "outputs": [
    {
     "data": {
      "text/html": [
       "<div>\n",
       "<style>\n",
       "    .dataframe thead tr:only-child th {\n",
       "        text-align: right;\n",
       "    }\n",
       "\n",
       "    .dataframe thead th {\n",
       "        text-align: left;\n",
       "    }\n",
       "\n",
       "    .dataframe tbody tr th {\n",
       "        vertical-align: top;\n",
       "    }\n",
       "</style>\n",
       "<table border=\"1\" class=\"dataframe\">\n",
       "  <thead>\n",
       "    <tr style=\"text-align: right;\">\n",
       "      <th></th>\n",
       "      <th>cid</th>\n",
       "      <th>veracity_num</th>\n",
       "      <th>breadth</th>\n",
       "      <th>category_num</th>\n",
       "      <th>depth</th>\n",
       "      <th>engangement</th>\n",
       "      <th>day</th>\n",
       "      <th>nfollowees</th>\n",
       "      <th>nfollowers</th>\n",
       "      <th>size</th>\n",
       "      <th>verified_num</th>\n",
       "      <th>virality</th>\n",
       "      <th>train_test</th>\n",
       "    </tr>\n",
       "  </thead>\n",
       "  <tbody>\n",
       "    <tr>\n",
       "      <th>7777</th>\n",
       "      <td>106998</td>\n",
       "      <td>2</td>\n",
       "      <td>10703</td>\n",
       "      <td>6</td>\n",
       "      <td>11</td>\n",
       "      <td>25.799399</td>\n",
       "      <td>28</td>\n",
       "      <td>186.0</td>\n",
       "      <td>672.0</td>\n",
       "      <td>23228</td>\n",
       "      <td>-9223372036854775808</td>\n",
       "      <td>4.003857</td>\n",
       "      <td>train</td>\n",
       "    </tr>\n",
       "    <tr>\n",
       "      <th>7778</th>\n",
       "      <td>106999</td>\n",
       "      <td>2</td>\n",
       "      <td>11783</td>\n",
       "      <td>5</td>\n",
       "      <td>9</td>\n",
       "      <td>10.811974</td>\n",
       "      <td>1</td>\n",
       "      <td>313.0</td>\n",
       "      <td>380.0</td>\n",
       "      <td>14827</td>\n",
       "      <td>-9223372036854775808</td>\n",
       "      <td>2.535338</td>\n",
       "      <td>train</td>\n",
       "    </tr>\n",
       "    <tr>\n",
       "      <th>7782</th>\n",
       "      <td>107000</td>\n",
       "      <td>2</td>\n",
       "      <td>6504</td>\n",
       "      <td>6</td>\n",
       "      <td>13</td>\n",
       "      <td>15.395237</td>\n",
       "      <td>27</td>\n",
       "      <td>518.0</td>\n",
       "      <td>504.0</td>\n",
       "      <td>14129</td>\n",
       "      <td>-9223372036854775808</td>\n",
       "      <td>4.019705</td>\n",
       "      <td>test</td>\n",
       "    </tr>\n",
       "    <tr>\n",
       "      <th>7783</th>\n",
       "      <td>107001</td>\n",
       "      <td>2</td>\n",
       "      <td>5772</td>\n",
       "      <td>6</td>\n",
       "      <td>8</td>\n",
       "      <td>3.140842</td>\n",
       "      <td>22</td>\n",
       "      <td>189.0</td>\n",
       "      <td>228.0</td>\n",
       "      <td>9972</td>\n",
       "      <td>-9223372036854775808</td>\n",
       "      <td>3.271008</td>\n",
       "      <td>train</td>\n",
       "    </tr>\n",
       "    <tr>\n",
       "      <th>7784</th>\n",
       "      <td>107002</td>\n",
       "      <td>2</td>\n",
       "      <td>6041</td>\n",
       "      <td>6</td>\n",
       "      <td>8</td>\n",
       "      <td>5.160261</td>\n",
       "      <td>21</td>\n",
       "      <td>174.0</td>\n",
       "      <td>110.0</td>\n",
       "      <td>9526</td>\n",
       "      <td>-9223372036854775808</td>\n",
       "      <td>3.115942</td>\n",
       "      <td>test</td>\n",
       "    </tr>\n",
       "    <tr>\n",
       "      <th>7785</th>\n",
       "      <td>107003</td>\n",
       "      <td>2</td>\n",
       "      <td>6160</td>\n",
       "      <td>2</td>\n",
       "      <td>8</td>\n",
       "      <td>11.310233</td>\n",
       "      <td>10</td>\n",
       "      <td>846.0</td>\n",
       "      <td>842.0</td>\n",
       "      <td>9124</td>\n",
       "      <td>-9223372036854775808</td>\n",
       "      <td>2.971147</td>\n",
       "      <td>train</td>\n",
       "    </tr>\n",
       "    <tr>\n",
       "      <th>7786</th>\n",
       "      <td>107004</td>\n",
       "      <td>2</td>\n",
       "      <td>2110</td>\n",
       "      <td>6</td>\n",
       "      <td>14</td>\n",
       "      <td>20.554899</td>\n",
       "      <td>28</td>\n",
       "      <td>542.0</td>\n",
       "      <td>716.0</td>\n",
       "      <td>6203</td>\n",
       "      <td>-9223372036854775808</td>\n",
       "      <td>5.110521</td>\n",
       "      <td>test</td>\n",
       "    </tr>\n",
       "    <tr>\n",
       "      <th>7787</th>\n",
       "      <td>107005</td>\n",
       "      <td>2</td>\n",
       "      <td>3092</td>\n",
       "      <td>6</td>\n",
       "      <td>10</td>\n",
       "      <td>4.256828</td>\n",
       "      <td>13</td>\n",
       "      <td>364.0</td>\n",
       "      <td>179.0</td>\n",
       "      <td>5882</td>\n",
       "      <td>-9223372036854775808</td>\n",
       "      <td>3.633757</td>\n",
       "      <td>train</td>\n",
       "    </tr>\n",
       "    <tr>\n",
       "      <th>7788</th>\n",
       "      <td>107006</td>\n",
       "      <td>2</td>\n",
       "      <td>4971</td>\n",
       "      <td>4</td>\n",
       "      <td>3</td>\n",
       "      <td>4.325858</td>\n",
       "      <td>29</td>\n",
       "      <td>417.0</td>\n",
       "      <td>637.0</td>\n",
       "      <td>5075</td>\n",
       "      <td>-9223372036854775808</td>\n",
       "      <td>2.041730</td>\n",
       "      <td>train</td>\n",
       "    </tr>\n",
       "    <tr>\n",
       "      <th>7789</th>\n",
       "      <td>107007</td>\n",
       "      <td>2</td>\n",
       "      <td>3374</td>\n",
       "      <td>6</td>\n",
       "      <td>5</td>\n",
       "      <td>29.216077</td>\n",
       "      <td>11</td>\n",
       "      <td>910.0</td>\n",
       "      <td>1140.0</td>\n",
       "      <td>4305</td>\n",
       "      <td>-9223372036854775808</td>\n",
       "      <td>2.584301</td>\n",
       "      <td>train</td>\n",
       "    </tr>\n",
       "  </tbody>\n",
       "</table>\n",
       "</div>"
      ],
      "text/plain": [
       "         cid  veracity_num  breadth  category_num  depth  engangement  day  \\\n",
       "7777  106998             2    10703             6     11    25.799399   28   \n",
       "7778  106999             2    11783             5      9    10.811974    1   \n",
       "7782  107000             2     6504             6     13    15.395237   27   \n",
       "7783  107001             2     5772             6      8     3.140842   22   \n",
       "7784  107002             2     6041             6      8     5.160261   21   \n",
       "7785  107003             2     6160             2      8    11.310233   10   \n",
       "7786  107004             2     2110             6     14    20.554899   28   \n",
       "7787  107005             2     3092             6     10     4.256828   13   \n",
       "7788  107006             2     4971             4      3     4.325858   29   \n",
       "7789  107007             2     3374             6      5    29.216077   11   \n",
       "\n",
       "      nfollowees  nfollowers   size         verified_num  virality train_test  \n",
       "7777       186.0       672.0  23228 -9223372036854775808  4.003857      train  \n",
       "7778       313.0       380.0  14827 -9223372036854775808  2.535338      train  \n",
       "7782       518.0       504.0  14129 -9223372036854775808  4.019705       test  \n",
       "7783       189.0       228.0   9972 -9223372036854775808  3.271008      train  \n",
       "7784       174.0       110.0   9526 -9223372036854775808  3.115942       test  \n",
       "7785       846.0       842.0   9124 -9223372036854775808  2.971147      train  \n",
       "7786       542.0       716.0   6203 -9223372036854775808  5.110521       test  \n",
       "7787       364.0       179.0   5882 -9223372036854775808  3.633757      train  \n",
       "7788       417.0       637.0   5075 -9223372036854775808  2.041730      train  \n",
       "7789       910.0      1140.0   4305 -9223372036854775808  2.584301      train  "
      ]
     },
     "execution_count": 9,
     "metadata": {},
     "output_type": "execute_result"
    }
   ],
   "source": [
    "#set seed\n",
    "random_array = np.random.choice([\"train\", \"test\"], size= len(df), p=[1./2, 1./2])\n",
    "df[\"train_test\"] = random_array\n",
    "df.head(10)"
   ]
  },
  {
   "cell_type": "markdown",
   "metadata": {},
   "source": [
    "## Change format to input it in keras"
   ]
  },
  {
   "cell_type": "code",
   "execution_count": 10,
   "metadata": {
    "scrolled": true
   },
   "outputs": [
    {
     "data": {
      "text/html": [
       "<div>\n",
       "<style>\n",
       "    .dataframe thead tr:only-child th {\n",
       "        text-align: right;\n",
       "    }\n",
       "\n",
       "    .dataframe thead th {\n",
       "        text-align: left;\n",
       "    }\n",
       "\n",
       "    .dataframe tbody tr th {\n",
       "        vertical-align: top;\n",
       "    }\n",
       "</style>\n",
       "<table border=\"1\" class=\"dataframe\">\n",
       "  <thead>\n",
       "    <tr style=\"text-align: right;\">\n",
       "      <th></th>\n",
       "      <th>category_num</th>\n",
       "      <th>day</th>\n",
       "      <th>verified_num</th>\n",
       "      <th>cid</th>\n",
       "    </tr>\n",
       "  </thead>\n",
       "  <tbody>\n",
       "    <tr>\n",
       "      <th>7782</th>\n",
       "      <td>6</td>\n",
       "      <td>27</td>\n",
       "      <td>-9223372036854775808</td>\n",
       "      <td>107000</td>\n",
       "    </tr>\n",
       "    <tr>\n",
       "      <th>7784</th>\n",
       "      <td>6</td>\n",
       "      <td>21</td>\n",
       "      <td>-9223372036854775808</td>\n",
       "      <td>107002</td>\n",
       "    </tr>\n",
       "    <tr>\n",
       "      <th>7786</th>\n",
       "      <td>6</td>\n",
       "      <td>28</td>\n",
       "      <td>-9223372036854775808</td>\n",
       "      <td>107004</td>\n",
       "    </tr>\n",
       "    <tr>\n",
       "      <th>7791</th>\n",
       "      <td>6</td>\n",
       "      <td>1</td>\n",
       "      <td>-9223372036854775808</td>\n",
       "      <td>107009</td>\n",
       "    </tr>\n",
       "    <tr>\n",
       "      <th>7793</th>\n",
       "      <td>4</td>\n",
       "      <td>9</td>\n",
       "      <td>-9223372036854775808</td>\n",
       "      <td>107010</td>\n",
       "    </tr>\n",
       "  </tbody>\n",
       "</table>\n",
       "</div>"
      ],
      "text/plain": [
       "      category_num  day         verified_num     cid\n",
       "7782             6   27 -9223372036854775808  107000\n",
       "7784             6   21 -9223372036854775808  107002\n",
       "7786             6   28 -9223372036854775808  107004\n",
       "7791             6    1 -9223372036854775808  107009\n",
       "7793             4    9 -9223372036854775808  107010"
      ]
     },
     "execution_count": 10,
     "metadata": {},
     "output_type": "execute_result"
    }
   ],
   "source": [
    "X_train_cat  = df.loc[df[\"train_test\"] == \"train\",column_names_x_cat ]\n",
    "X_test_cat  = df.loc[df[\"train_test\"] == \"test\",column_names_x_cat ]\n",
    "X_train_con  = df.loc[df[\"train_test\"] == \"train\",column_names_x_con ]\n",
    "X_test_con  = df.loc[df[\"train_test\"] == \"test\",column_names_x_con ]\n",
    "Y_train = df.loc[df[\"train_test\"] == \"train\",column_names_y ]\n",
    "Y_test = df.loc[df[\"train_test\"] == \"test\",column_names_y ]\n",
    "\n",
    "Y_train['veracity_num'].unique()\n",
    "#X_train_con\n",
    "X_test_cat.head()\n",
    "\n",
    "#Y_train.isnull().values.any()\n",
    "#Y_train.isnull().sum().sum()\n",
    "#X_train_cat.isnull().values.sum().sum()"
   ]
  },
  {
   "cell_type": "code",
   "execution_count": 11,
   "metadata": {
    "collapsed": true
   },
   "outputs": [],
   "source": [
    "save_Y_train = df.loc[df[\"train_test\"] == \"train\",column_names_y ]"
   ]
  },
  {
   "cell_type": "code",
   "execution_count": 12,
   "metadata": {
    "collapsed": true
   },
   "outputs": [],
   "source": [
    "def change_format2(X_train_cat):\n",
    "    X_train_cat.index = np.arange(1, len(X_train_cat) + 1)\n",
    "    for a in range(7):\n",
    "        X_train_cat[\"category_num_%d\"% (a+1)] = 0\n",
    "    for b in range(31):\n",
    "        X_train_cat[\"day_%d\"% (b+1)] = 0\n",
    "    for c in range(3):\n",
    "        X_train_cat[\"verified_%d\"% (c+1)] = 0\n",
    "    \n",
    "    for i in range(len(X_train_cat)):\n",
    "        for j in range(8):\n",
    "            if X_train_cat.iloc[i,0] == j:\n",
    "                X_train_cat[\"category_num_%d\"% (j)][i+1] = 1\n",
    "                break\n",
    "        for k in range(32):\n",
    "            if X_train_cat.iloc[i,1] == k:\n",
    "                X_train_cat[\"day_%d\"% (k)][i+1] = 1\n",
    "                break\n",
    "        for l in range(4):\n",
    "            if X_train_cat.iloc[i,2] == l:\n",
    "                X_train_cat[\"verified_%d\"% (l)][i+1] = 1\n",
    "                break     \n",
    "    return X_train_cat"
   ]
  },
  {
   "cell_type": "code",
   "execution_count": 13,
   "metadata": {
    "collapsed": true,
    "scrolled": false
   },
   "outputs": [],
   "source": [
    "X_train_cat2 = change_format2(X_train_cat)\n",
    "X_test_cat2 = change_format2(X_test_cat)\n"
   ]
  },
  {
   "cell_type": "code",
   "execution_count": 14,
   "metadata": {},
   "outputs": [
    {
     "data": {
      "text/html": [
       "<div>\n",
       "<style>\n",
       "    .dataframe thead tr:only-child th {\n",
       "        text-align: right;\n",
       "    }\n",
       "\n",
       "    .dataframe thead th {\n",
       "        text-align: left;\n",
       "    }\n",
       "\n",
       "    .dataframe tbody tr th {\n",
       "        vertical-align: top;\n",
       "    }\n",
       "</style>\n",
       "<table border=\"1\" class=\"dataframe\">\n",
       "  <thead>\n",
       "    <tr style=\"text-align: right;\">\n",
       "      <th></th>\n",
       "      <th>category_num_1</th>\n",
       "      <th>category_num_2</th>\n",
       "      <th>category_num_3</th>\n",
       "      <th>category_num_4</th>\n",
       "      <th>category_num_5</th>\n",
       "      <th>category_num_6</th>\n",
       "      <th>category_num_7</th>\n",
       "      <th>day_1</th>\n",
       "      <th>day_2</th>\n",
       "      <th>day_3</th>\n",
       "      <th>...</th>\n",
       "      <th>day_25</th>\n",
       "      <th>day_26</th>\n",
       "      <th>day_27</th>\n",
       "      <th>day_28</th>\n",
       "      <th>day_29</th>\n",
       "      <th>day_30</th>\n",
       "      <th>day_31</th>\n",
       "      <th>verified_1</th>\n",
       "      <th>verified_2</th>\n",
       "      <th>verified_3</th>\n",
       "    </tr>\n",
       "  </thead>\n",
       "  <tbody>\n",
       "    <tr>\n",
       "      <th>1</th>\n",
       "      <td>0</td>\n",
       "      <td>0</td>\n",
       "      <td>0</td>\n",
       "      <td>0</td>\n",
       "      <td>0</td>\n",
       "      <td>1</td>\n",
       "      <td>0</td>\n",
       "      <td>0</td>\n",
       "      <td>0</td>\n",
       "      <td>0</td>\n",
       "      <td>...</td>\n",
       "      <td>0</td>\n",
       "      <td>0</td>\n",
       "      <td>0</td>\n",
       "      <td>1</td>\n",
       "      <td>0</td>\n",
       "      <td>0</td>\n",
       "      <td>0</td>\n",
       "      <td>0</td>\n",
       "      <td>0</td>\n",
       "      <td>0</td>\n",
       "    </tr>\n",
       "    <tr>\n",
       "      <th>2</th>\n",
       "      <td>0</td>\n",
       "      <td>0</td>\n",
       "      <td>0</td>\n",
       "      <td>0</td>\n",
       "      <td>1</td>\n",
       "      <td>0</td>\n",
       "      <td>0</td>\n",
       "      <td>1</td>\n",
       "      <td>0</td>\n",
       "      <td>0</td>\n",
       "      <td>...</td>\n",
       "      <td>0</td>\n",
       "      <td>0</td>\n",
       "      <td>0</td>\n",
       "      <td>0</td>\n",
       "      <td>0</td>\n",
       "      <td>0</td>\n",
       "      <td>0</td>\n",
       "      <td>0</td>\n",
       "      <td>0</td>\n",
       "      <td>0</td>\n",
       "    </tr>\n",
       "    <tr>\n",
       "      <th>3</th>\n",
       "      <td>0</td>\n",
       "      <td>0</td>\n",
       "      <td>0</td>\n",
       "      <td>0</td>\n",
       "      <td>0</td>\n",
       "      <td>1</td>\n",
       "      <td>0</td>\n",
       "      <td>0</td>\n",
       "      <td>0</td>\n",
       "      <td>0</td>\n",
       "      <td>...</td>\n",
       "      <td>0</td>\n",
       "      <td>0</td>\n",
       "      <td>0</td>\n",
       "      <td>0</td>\n",
       "      <td>0</td>\n",
       "      <td>0</td>\n",
       "      <td>0</td>\n",
       "      <td>0</td>\n",
       "      <td>0</td>\n",
       "      <td>0</td>\n",
       "    </tr>\n",
       "    <tr>\n",
       "      <th>4</th>\n",
       "      <td>0</td>\n",
       "      <td>1</td>\n",
       "      <td>0</td>\n",
       "      <td>0</td>\n",
       "      <td>0</td>\n",
       "      <td>0</td>\n",
       "      <td>0</td>\n",
       "      <td>0</td>\n",
       "      <td>0</td>\n",
       "      <td>0</td>\n",
       "      <td>...</td>\n",
       "      <td>0</td>\n",
       "      <td>0</td>\n",
       "      <td>0</td>\n",
       "      <td>0</td>\n",
       "      <td>0</td>\n",
       "      <td>0</td>\n",
       "      <td>0</td>\n",
       "      <td>0</td>\n",
       "      <td>0</td>\n",
       "      <td>0</td>\n",
       "    </tr>\n",
       "    <tr>\n",
       "      <th>5</th>\n",
       "      <td>0</td>\n",
       "      <td>0</td>\n",
       "      <td>0</td>\n",
       "      <td>0</td>\n",
       "      <td>0</td>\n",
       "      <td>1</td>\n",
       "      <td>0</td>\n",
       "      <td>0</td>\n",
       "      <td>0</td>\n",
       "      <td>0</td>\n",
       "      <td>...</td>\n",
       "      <td>0</td>\n",
       "      <td>0</td>\n",
       "      <td>0</td>\n",
       "      <td>0</td>\n",
       "      <td>0</td>\n",
       "      <td>0</td>\n",
       "      <td>0</td>\n",
       "      <td>0</td>\n",
       "      <td>0</td>\n",
       "      <td>0</td>\n",
       "    </tr>\n",
       "  </tbody>\n",
       "</table>\n",
       "<p>5 rows × 41 columns</p>\n",
       "</div>"
      ],
      "text/plain": [
       "   category_num_1  category_num_2  category_num_3  category_num_4  \\\n",
       "1               0               0               0               0   \n",
       "2               0               0               0               0   \n",
       "3               0               0               0               0   \n",
       "4               0               1               0               0   \n",
       "5               0               0               0               0   \n",
       "\n",
       "   category_num_5  category_num_6  category_num_7  day_1  day_2  day_3  \\\n",
       "1               0               1               0      0      0      0   \n",
       "2               1               0               0      1      0      0   \n",
       "3               0               1               0      0      0      0   \n",
       "4               0               0               0      0      0      0   \n",
       "5               0               1               0      0      0      0   \n",
       "\n",
       "      ...      day_25  day_26  day_27  day_28  day_29  day_30  day_31  \\\n",
       "1     ...           0       0       0       1       0       0       0   \n",
       "2     ...           0       0       0       0       0       0       0   \n",
       "3     ...           0       0       0       0       0       0       0   \n",
       "4     ...           0       0       0       0       0       0       0   \n",
       "5     ...           0       0       0       0       0       0       0   \n",
       "\n",
       "   verified_1  verified_2  verified_3  \n",
       "1           0           0           0  \n",
       "2           0           0           0  \n",
       "3           0           0           0  \n",
       "4           0           0           0  \n",
       "5           0           0           0  \n",
       "\n",
       "[5 rows x 41 columns]"
      ]
     },
     "execution_count": 14,
     "metadata": {},
     "output_type": "execute_result"
    }
   ],
   "source": [
    "# Run this block only once (or in combination with the block above)\n",
    "X_train_cat2 = X_train_cat2.iloc[:,4:] # [:,4:] for dataframe without cid [:,3:] for dataframe with cid \n",
    "X_test_cat2 = X_test_cat2.iloc[:,4:] # [:,4:] for dataframe without cid\n",
    "X_train_cat2.head()"
   ]
  },
  {
   "cell_type": "code",
   "execution_count": 15,
   "metadata": {
    "collapsed": true,
    "scrolled": false
   },
   "outputs": [],
   "source": [
    "# Change datastructue df -> matrix\n",
    "X_train_cat  = X_train_cat2.as_matrix()\n",
    "X_test_cat = X_test_cat2.as_matrix() \n",
    "X_train_con  = X_train_con.as_matrix()\n",
    "X_test_con = X_test_con.as_matrix()\n",
    "Y_train = Y_train.as_matrix()\n",
    "Y_test = Y_test.as_matrix()"
   ]
  },
  {
   "cell_type": "code",
   "execution_count": 16,
   "metadata": {},
   "outputs": [
    {
     "data": {
      "text/plain": [
       "array([[0, 0, 0, ..., 0, 0, 0],\n",
       "       [0, 0, 0, ..., 0, 0, 0],\n",
       "       [0, 0, 0, ..., 0, 0, 0],\n",
       "       ..., \n",
       "       [0, 0, 0, ..., 0, 0, 0],\n",
       "       [0, 0, 0, ..., 0, 0, 0],\n",
       "       [0, 0, 0, ..., 0, 0, 0]])"
      ]
     },
     "execution_count": 16,
     "metadata": {},
     "output_type": "execute_result"
    }
   ],
   "source": [
    "X_train_cat\n"
   ]
  },
  {
   "cell_type": "markdown",
   "metadata": {},
   "source": [
    "# Make models"
   ]
  },
  {
   "cell_type": "markdown",
   "metadata": {
    "collapsed": true
   },
   "source": [
    "### Categorical model (not needed anymore beceause we have the combined model)"
   ]
  },
  {
   "cell_type": "code",
   "execution_count": 17,
   "metadata": {
    "collapsed": true
   },
   "outputs": [],
   "source": [
    "model_cat = Sequential()\n",
    "model_cat.add(Dense(4,input_dim = 41)) # or 38?\n",
    "model_cat.add(Activation('relu'))\n",
    "model_cat.add(Dense(4))\n",
    "model_cat.add(Activation('softmax'))\n",
    "\n",
    "model_cat.compile(optimizer='rmsprop',\n",
    "              loss='categorical_crossentropy',\n",
    "              metrics=['accuracy'])"
   ]
  },
  {
   "cell_type": "code",
   "execution_count": 18,
   "metadata": {},
   "outputs": [
    {
     "name": "stdout",
     "output_type": "stream",
     "text": [
      "_________________________________________________________________\n",
      "Layer (type)                 Output Shape              Param #   \n",
      "=================================================================\n",
      "dense_1 (Dense)              (None, 4)                 168       \n",
      "_________________________________________________________________\n",
      "activation_1 (Activation)    (None, 4)                 0         \n",
      "_________________________________________________________________\n",
      "dense_2 (Dense)              (None, 4)                 20        \n",
      "_________________________________________________________________\n",
      "activation_2 (Activation)    (None, 4)                 0         \n",
      "=================================================================\n",
      "Total params: 188\n",
      "Trainable params: 188\n",
      "Non-trainable params: 0\n",
      "_________________________________________________________________\n"
     ]
    }
   ],
   "source": [
    "model_cat.summary()\n"
   ]
  },
  {
   "cell_type": "code",
   "execution_count": 19,
   "metadata": {},
   "outputs": [
    {
     "data": {
      "image/png": "[encoded data removed]",
      "text/plain": [
       "<IPython.core.display.Image object>"
      ]
     },
     "execution_count": 19,
     "metadata": {},
     "output_type": "execute_result"
    }
   ],
   "source": [
    "# save model as image\n",
    "plot_model(model_cat, to_file='Images/model_cat_old.png')\n",
    "Image(\"Images/model_cat_old.png\")"
   ]
  },
  {
   "cell_type": "code",
   "execution_count": 20,
   "metadata": {},
   "outputs": [
    {
     "data": {
      "text/plain": [
       "array([[0, 0, 0, ..., 0, 0, 0],\n",
       "       [0, 0, 0, ..., 0, 0, 0],\n",
       "       [0, 0, 0, ..., 0, 0, 0],\n",
       "       ..., \n",
       "       [0, 0, 0, ..., 0, 0, 0],\n",
       "       [0, 0, 0, ..., 0, 0, 0],\n",
       "       [0, 0, 0, ..., 0, 0, 0]])"
      ]
     },
     "execution_count": 20,
     "metadata": {},
     "output_type": "execute_result"
    }
   ],
   "source": [
    "X_train_cat # "
   ]
  },
  {
   "cell_type": "code",
   "execution_count": 21,
   "metadata": {
    "scrolled": true
   },
   "outputs": [
    {
     "name": "stdout",
     "output_type": "stream",
     "text": [
      "Epoch 1/20\n",
      "21165/21165 [==============================] - 0s 18us/step - loss: 1.1636 - acc: 0.5965\n",
      "Epoch 2/20\n",
      "21165/21165 [==============================] - 0s 9us/step - loss: 0.8098 - acc: 0.7575\n",
      "Epoch 3/20\n",
      "21165/21165 [==============================] - 0s 9us/step - loss: 0.6989 - acc: 0.7575\n",
      "Epoch 4/20\n",
      "21165/21165 [==============================] - 0s 10us/step - loss: 0.6707 - acc: 0.7575\n",
      "Epoch 5/20\n",
      "21165/21165 [==============================] - 0s 9us/step - loss: 0.6555 - acc: 0.7575\n",
      "Epoch 6/20\n",
      "21165/21165 [==============================] - 0s 9us/step - loss: 0.6455 - acc: 0.7575\n",
      "Epoch 7/20\n",
      "21165/21165 [==============================] - 0s 9us/step - loss: 0.6376 - acc: 0.7575\n",
      "Epoch 8/20\n",
      "21165/21165 [==============================] - 0s 12us/step - loss: 0.6312 - acc: 0.7575\n",
      "Epoch 9/20\n",
      "21165/21165 [==============================] - 0s 12us/step - loss: 0.6262 - acc: 0.7575\n",
      "Epoch 10/20\n",
      "21165/21165 [==============================] - 0s 9us/step - loss: 0.6219 - acc: 0.7588\n",
      "Epoch 11/20\n",
      "21165/21165 [==============================] - 0s 9us/step - loss: 0.6183 - acc: 0.7665\n",
      "Epoch 12/20\n",
      "21165/21165 [==============================] - 0s 10us/step - loss: 0.6154 - acc: 0.7670\n",
      "Epoch 13/20\n",
      "21165/21165 [==============================] - 0s 9us/step - loss: 0.6133 - acc: 0.7666\n",
      "Epoch 14/20\n",
      "21165/21165 [==============================] - 0s 9us/step - loss: 0.6118 - acc: 0.7658\n",
      "Epoch 15/20\n",
      "21165/21165 [==============================] - 0s 9us/step - loss: 0.6103 - acc: 0.7652\n",
      "Epoch 16/20\n",
      "21165/21165 [==============================] - 0s 9us/step - loss: 0.6092 - acc: 0.7657\n",
      "Epoch 17/20\n",
      "21165/21165 [==============================] - 0s 10us/step - loss: 0.6082 - acc: 0.7661\n",
      "Epoch 18/20\n",
      "21165/21165 [==============================] - 0s 9us/step - loss: 0.6071 - acc: 0.7666\n",
      "Epoch 19/20\n",
      "21165/21165 [==============================] - 0s 9us/step - loss: 0.6058 - acc: 0.7684\n",
      "Epoch 20/20\n",
      "21165/21165 [==============================] - 0s 11us/step - loss: 0.6046 - acc: 0.7683\n"
     ]
    },
    {
     "data": {
      "text/plain": [
       "<keras.callbacks.History at 0x1c55824828>"
      ]
     },
     "execution_count": 21,
     "metadata": {},
     "output_type": "execute_result"
    }
   ],
   "source": [
    "model_cat.fit(X_train_cat, keras.utils.to_categorical(Y_train, num_classes=None),\n",
    "          epochs=20,\n",
    "          batch_size=128)"
   ]
  },
  {
   "cell_type": "code",
   "execution_count": 22,
   "metadata": {},
   "outputs": [
    {
     "name": "stdout",
     "output_type": "stream",
     "text": [
      "20916/20916 [==============================] - 0s 6us/step\n"
     ]
    },
    {
     "data": {
      "text/plain": [
       "[0.6073189257754722, 0.76754637597441144]"
      ]
     },
     "execution_count": 22,
     "metadata": {},
     "output_type": "execute_result"
    }
   ],
   "source": [
    "score = model_cat.evaluate(X_test_cat2, keras.utils.to_categorical(Y_test, num_classes=None), batch_size=128)\n",
    "score"
   ]
  },
  {
   "cell_type": "markdown",
   "metadata": {},
   "source": [
    "### Categorical model in way that can be combined with other models\n",
    "Also see: https://keras.io/getting-started/functional-api-guide/"
   ]
  },
  {
   "cell_type": "code",
   "execution_count": 23,
   "metadata": {},
   "outputs": [
    {
     "name": "stdout",
     "output_type": "stream",
     "text": [
      "Epoch 1/10\n",
      "21165/21165 [==============================] - 1s 48us/step - loss: 0.8354 - mean_squared_error: 0.1107 - acc: 0.7432\n",
      "Epoch 2/10\n",
      "21165/21165 [==============================] - 1s 37us/step - loss: 0.6550 - mean_squared_error: 0.0896 - acc: 0.7584\n",
      "Epoch 3/10\n",
      "21165/21165 [==============================] - 1s 38us/step - loss: 0.6340 - mean_squared_error: 0.0871 - acc: 0.7669\n",
      "Epoch 4/10\n",
      "21165/21165 [==============================] - 1s 41us/step - loss: 0.6199 - mean_squared_error: 0.0855 - acc: 0.7704\n",
      "Epoch 5/10\n",
      "21165/21165 [==============================] - 1s 40us/step - loss: 0.6105 - mean_squared_error: 0.0845 - acc: 0.7717\n",
      "Epoch 6/10\n",
      "21165/21165 [==============================] - 1s 36us/step - loss: 0.6058 - mean_squared_error: 0.0840 - acc: 0.7736\n",
      "Epoch 7/10\n",
      "21165/21165 [==============================] - 1s 35us/step - loss: 0.6033 - mean_squared_error: 0.0837 - acc: 0.7736\n",
      "Epoch 8/10\n",
      "21165/21165 [==============================] - 1s 40us/step - loss: 0.6013 - mean_squared_error: 0.0834 - acc: 0.7735\n",
      "Epoch 9/10\n",
      "21165/21165 [==============================] - 1s 38us/step - loss: 0.5997 - mean_squared_error: 0.0832 - acc: 0.7738\n",
      "Epoch 10/10\n",
      "21165/21165 [==============================] - 1s 36us/step - loss: 0.5986 - mean_squared_error: 0.0831 - acc: 0.7743\n"
     ]
    },
    {
     "data": {
      "text/plain": [
       "<keras.callbacks.History at 0x1c5aae1710>"
      ]
     },
     "execution_count": 23,
     "metadata": {},
     "output_type": "execute_result"
    }
   ],
   "source": [
    "\n",
    "from keras.layers import Input, Dense\n",
    "from keras.models import Model\n",
    "# This returns a tensor\n",
    "inputs = Input(shape=(41,))\n",
    "\n",
    "# a layer instance is callable on a tensor, and returns a tensor\n",
    "x = Dense(4, activation='relu')(inputs)\n",
    "x = Dense(4, activation='relu')(x)\n",
    "x = Dense(4, activation='tanh')(x)\n",
    "predictions = Dense(4, activation='softmax')(x)\n",
    "\n",
    "# This creates a model that includes\n",
    "# the Input layer and three Dense layers\n",
    "model_cat_new = Model(inputs=inputs, outputs=predictions)\n",
    "model_cat_new.compile(optimizer='rmsprop',\n",
    "              loss='categorical_crossentropy',\n",
    "              metrics=['mse','accuracy']) #accuracy\n",
    "model_cat_new.fit(X_train_cat, keras.utils.to_categorical(Y_train, num_classes=None),epochs=10) "
   ]
  },
  {
   "cell_type": "code",
   "execution_count": 24,
   "metadata": {
    "scrolled": true
   },
   "outputs": [
    {
     "name": "stdout",
     "output_type": "stream",
     "text": [
      "_________________________________________________________________\n",
      "Layer (type)                 Output Shape              Param #   \n",
      "=================================================================\n",
      "input_1 (InputLayer)         (None, 41)                0         \n",
      "_________________________________________________________________\n",
      "dense_3 (Dense)              (None, 4)                 168       \n",
      "_________________________________________________________________\n",
      "dense_4 (Dense)              (None, 4)                 20        \n",
      "_________________________________________________________________\n",
      "dense_5 (Dense)              (None, 4)                 20        \n",
      "_________________________________________________________________\n",
      "dense_6 (Dense)              (None, 4)                 20        \n",
      "=================================================================\n",
      "Total params: 228\n",
      "Trainable params: 228\n",
      "Non-trainable params: 0\n",
      "_________________________________________________________________\n"
     ]
    }
   ],
   "source": [
    "model_cat_new.summary()"
   ]
  },
  {
   "cell_type": "code",
   "execution_count": 25,
   "metadata": {},
   "outputs": [
    {
     "data": {
      "image/png": "[encoded data removed]",
      "text/plain": [
       "<IPython.core.display.Image object>"
      ]
     },
     "execution_count": 25,
     "metadata": {},
     "output_type": "execute_result"
    }
   ],
   "source": [
    "# save model as image\n",
    "plot_model(model_cat_new, to_file='Images/model_cat_new.png')\n",
    "Image(\"Images/model_cat_new.png\")"
   ]
  },
  {
   "cell_type": "markdown",
   "metadata": {
    "collapsed": true
   },
   "source": [
    "## Continious model"
   ]
  },
  {
   "cell_type": "code",
   "execution_count": 26,
   "metadata": {
    "collapsed": true
   },
   "outputs": [],
   "source": [
    "#normalize input? log(1+x) - z score? - (x - mu - sigma)\n"
   ]
  },
  {
   "cell_type": "code",
   "execution_count": 27,
   "metadata": {
    "collapsed": true
   },
   "outputs": [],
   "source": [
    "model_con = Sequential()\n",
    "#model_con.add(Dense(4,input_dim = 7)) \n",
    "model_con.add(Dense(4,input_dim = 7,activation = 'relu')) \n",
    "#model_con.add(Activation('relu')) #add drop out?\n",
    "#model_con.add(Activation('softmax')) #add drop out?\n",
    "#model_con.add(Dense(4)) #4\n",
    "model_con.add(Dense(40, activation = 'tanh' ))\n",
    "model_con.add(Dense(40, activation = 'relu' ))\n",
    "model_con.add(Dense(4, activation = 'softmax' ))\n",
    "#model_con.add(Activation('softmax')) #add drop out?\n",
    "#model_con.add(Activation('relu')) #add drop out?\n",
    "\n",
    "model_con.compile(optimizer='rmsprop',\n",
    "              loss='categorical_crossentropy', # categorical cross # nic: MSE\n",
    "              metrics=['mse','accuracy'])"
   ]
  },
  {
   "cell_type": "code",
   "execution_count": 28,
   "metadata": {},
   "outputs": [
    {
     "name": "stdout",
     "output_type": "stream",
     "text": [
      "_________________________________________________________________\n",
      "Layer (type)                 Output Shape              Param #   \n",
      "=================================================================\n",
      "dense_7 (Dense)              (None, 4)                 32        \n",
      "_________________________________________________________________\n",
      "dense_8 (Dense)              (None, 40)                200       \n",
      "_________________________________________________________________\n",
      "dense_9 (Dense)              (None, 40)                1640      \n",
      "_________________________________________________________________\n",
      "dense_10 (Dense)             (None, 4)                 164       \n",
      "=================================================================\n",
      "Total params: 2,036\n",
      "Trainable params: 2,036\n",
      "Non-trainable params: 0\n",
      "_________________________________________________________________\n"
     ]
    }
   ],
   "source": [
    "model_con.summary()"
   ]
  },
  {
   "cell_type": "code",
   "execution_count": 29,
   "metadata": {},
   "outputs": [
    {
     "data": {
      "image/png": "[encoded data removed]",
      "text/plain": [
       "<IPython.core.display.Image object>"
      ]
     },
     "execution_count": 29,
     "metadata": {},
     "output_type": "execute_result"
    }
   ],
   "source": [
    "plot_model(model_con, to_file='Images/model_con.png')\n",
    "Image(\"Images/model_con.png\")\n"
   ]
  },
  {
   "cell_type": "code",
   "execution_count": 30,
   "metadata": {},
   "outputs": [
    {
     "data": {
      "text/plain": [
       "array([2, 1, 3])"
      ]
     },
     "execution_count": 30,
     "metadata": {},
     "output_type": "execute_result"
    }
   ],
   "source": [
    "#show inputdat:\n",
    "\n",
    "X_train_con\n",
    "keras.utils.to_categorical(Y_train, num_classes=None)\n",
    "save_Y_train.head()\n",
    "save_Y_train['veracity_num'].unique()\n",
    "\n",
    "# why loss nan -> acc zero\n",
    "# do I have to normalize x input\n",
    "# Is y variable in [0,0,0,1] good?\n"
   ]
  },
  {
   "cell_type": "code",
   "execution_count": 31,
   "metadata": {
    "scrolled": true
   },
   "outputs": [
    {
     "name": "stdout",
     "output_type": "stream",
     "text": [
      "Epoch 1/20\n",
      "21165/21165 [==============================] - 1s 24us/step - loss: nan - mean_squared_error: nan - acc: 0.0164\n",
      "Epoch 2/20\n",
      "21165/21165 [==============================] - 0s 11us/step - loss: nan - mean_squared_error: nan - acc: 0.0000e+00\n",
      "Epoch 3/20\n",
      "21165/21165 [==============================] - 0s 12us/step - loss: nan - mean_squared_error: nan - acc: 0.0000e+00\n",
      "Epoch 4/20\n",
      "21165/21165 [==============================] - 0s 11us/step - loss: nan - mean_squared_error: nan - acc: 0.0000e+00\n",
      "Epoch 5/20\n",
      "21165/21165 [==============================] - 0s 11us/step - loss: nan - mean_squared_error: nan - acc: 0.0000e+00\n",
      "Epoch 6/20\n",
      "21165/21165 [==============================] - 0s 11us/step - loss: nan - mean_squared_error: nan - acc: 0.0000e+00\n",
      "Epoch 7/20\n",
      "21165/21165 [==============================] - 0s 13us/step - loss: nan - mean_squared_error: nan - acc: 0.0000e+00\n",
      "Epoch 8/20\n",
      "21165/21165 [==============================] - 0s 16us/step - loss: nan - mean_squared_error: nan - acc: 0.0000e+00\n",
      "Epoch 9/20\n",
      "21165/21165 [==============================] - 0s 13us/step - loss: nan - mean_squared_error: nan - acc: 0.0000e+00\n",
      "Epoch 10/20\n",
      "21165/21165 [==============================] - 0s 16us/step - loss: nan - mean_squared_error: nan - acc: 0.0000e+00\n",
      "Epoch 11/20\n",
      "21165/21165 [==============================] - 0s 16us/step - loss: nan - mean_squared_error: nan - acc: 0.0000e+00\n",
      "Epoch 12/20\n",
      "21165/21165 [==============================] - 0s 18us/step - loss: nan - mean_squared_error: nan - acc: 0.0000e+00\n",
      "Epoch 13/20\n",
      "21165/21165 [==============================] - 0s 18us/step - loss: nan - mean_squared_error: nan - acc: 0.0000e+00\n",
      "Epoch 14/20\n",
      "21165/21165 [==============================] - 0s 16us/step - loss: nan - mean_squared_error: nan - acc: 0.0000e+00\n",
      "Epoch 15/20\n",
      "21165/21165 [==============================] - 0s 19us/step - loss: nan - mean_squared_error: nan - acc: 0.0000e+00\n",
      "Epoch 16/20\n",
      "21165/21165 [==============================] - 0s 22us/step - loss: nan - mean_squared_error: nan - acc: 0.0000e+00\n",
      "Epoch 17/20\n",
      "21165/21165 [==============================] - 0s 19us/step - loss: nan - mean_squared_error: nan - acc: 0.0000e+00\n",
      "Epoch 18/20\n",
      "21165/21165 [==============================] - 0s 23us/step - loss: nan - mean_squared_error: nan - acc: 0.0000e+00\n",
      "Epoch 19/20\n",
      "21165/21165 [==============================] - 0s 21us/step - loss: nan - mean_squared_error: nan - acc: 0.0000e+00\n",
      "Epoch 20/20\n",
      "21165/21165 [==============================] - 0s 20us/step - loss: nan - mean_squared_error: nan - acc: 0.0000e+00\n"
     ]
    },
    {
     "data": {
      "text/plain": [
       "<keras.callbacks.History at 0x1c5d9491d0>"
      ]
     },
     "execution_count": 31,
     "metadata": {},
     "output_type": "execute_result"
    }
   ],
   "source": [
    "model_con.fit(X_train_con, keras.utils.to_categorical(Y_train, num_classes=None),\n",
    "          epochs=20,\n",
    "          batch_size=128\n",
    "         )"
   ]
  },
  {
   "cell_type": "code",
   "execution_count": 32,
   "metadata": {},
   "outputs": [
    {
     "name": "stdout",
     "output_type": "stream",
     "text": [
      "20916/20916 [==============================] - 0s 12us/step\n"
     ]
    },
    {
     "data": {
      "text/plain": [
       "[nan, nan, 0.0]"
      ]
     },
     "execution_count": 32,
     "metadata": {},
     "output_type": "execute_result"
    }
   ],
   "source": [
    "score_con = model_con.evaluate(X_test_con, keras.utils.to_categorical(Y_test, num_classes=None), batch_size=128)\n",
    "score_con"
   ]
  },
  {
   "cell_type": "markdown",
   "metadata": {
    "collapsed": true
   },
   "source": [
    "# Combined continious and categorical model"
   ]
  },
  {
   "cell_type": "code",
   "execution_count": 33,
   "metadata": {
    "collapsed": true
   },
   "outputs": [],
   "source": [
    "#main_input = Input(shape=(100,), dtype='int32', name='main_input') #Example\n",
    "#main_input = Input(input_dim=7, dtype='int32', name='Categorial_input') # not working\n",
    "cat_input = Input(shape=(41,), name='Categorial_input') # not sure whether this is the good shape(X_train_con.shape)\n",
    "con_input = Input(shape=(7,), name='Continous_input')\n",
    "\n",
    "#lstm_input = ??\n",
    "\n",
    "x = keras.layers.concatenate([cat_input, con_input])\n",
    "x = Dense(64, activation='relu')(x)\n",
    "x = Dense(64, activation='relu')(x)\n",
    "x = Dense(64, activation='relu')(x)\n",
    "\n",
    "main_output = Dense(4, activation='softmax', name='main_output')(x) # from example # 1, 3 or 4"
   ]
  },
  {
   "cell_type": "code",
   "execution_count": 34,
   "metadata": {
    "collapsed": true
   },
   "outputs": [],
   "source": [
    "model_total = Model(inputs=[cat_input, con_input], outputs=[main_output])"
   ]
  },
  {
   "cell_type": "code",
   "execution_count": 35,
   "metadata": {},
   "outputs": [
    {
     "name": "stdout",
     "output_type": "stream",
     "text": [
      "__________________________________________________________________________________________________\n",
      "Layer (type)                    Output Shape         Param #     Connected to                     \n",
      "==================================================================================================\n",
      "Categorial_input (InputLayer)   (None, 41)           0                                            \n",
      "__________________________________________________________________________________________________\n",
      "Continous_input (InputLayer)    (None, 7)            0                                            \n",
      "__________________________________________________________________________________________________\n",
      "concatenate_1 (Concatenate)     (None, 48)           0           Categorial_input[0][0]           \n",
      "                                                                 Continous_input[0][0]            \n",
      "__________________________________________________________________________________________________\n",
      "dense_11 (Dense)                (None, 64)           3136        concatenate_1[0][0]              \n",
      "__________________________________________________________________________________________________\n",
      "dense_12 (Dense)                (None, 64)           4160        dense_11[0][0]                   \n",
      "__________________________________________________________________________________________________\n",
      "dense_13 (Dense)                (None, 64)           4160        dense_12[0][0]                   \n",
      "__________________________________________________________________________________________________\n",
      "main_output (Dense)             (None, 4)            260         dense_13[0][0]                   \n",
      "==================================================================================================\n",
      "Total params: 11,716\n",
      "Trainable params: 11,716\n",
      "Non-trainable params: 0\n",
      "__________________________________________________________________________________________________\n"
     ]
    }
   ],
   "source": [
    "model_total.summary()"
   ]
  },
  {
   "cell_type": "code",
   "execution_count": 36,
   "metadata": {},
   "outputs": [
    {
     "data": {
      "image/png": "[encoded data removed]",
      "text/plain": [
       "<IPython.core.display.Image object>"
      ]
     },
     "execution_count": 36,
     "metadata": {},
     "output_type": "execute_result"
    }
   ],
   "source": [
    "plot_model(model_total, to_file='Images/model_combined.png')\n",
    "from IPython.display import Image\n",
    "Image(\"Images/model_combined.png\")\n"
   ]
  },
  {
   "cell_type": "code",
   "execution_count": 37,
   "metadata": {
    "collapsed": true
   },
   "outputs": [],
   "source": [
    "model_total.compile(optimizer='rmsprop', loss='categorical_crossentropy',metrics=['mse','accuracy']) # but you need multiple loss function don't you? # categocial!!!!"
   ]
  },
  {
   "cell_type": "code",
   "execution_count": 38,
   "metadata": {},
   "outputs": [
    {
     "name": "stdout",
     "output_type": "stream",
     "text": [
      "Epoch 1/20\n",
      "21165/21165 [==============================] - 1s 68us/step - loss: nan - mean_squared_error: nan - acc: 0.0000e+00\n",
      "Epoch 2/20\n",
      "21165/21165 [==============================] - 1s 55us/step - loss: nan - mean_squared_error: nan - acc: 0.0000e+00\n",
      "Epoch 3/20\n",
      "21165/21165 [==============================] - 1s 44us/step - loss: nan - mean_squared_error: nan - acc: 0.0000e+00\n",
      "Epoch 4/20\n",
      "21165/21165 [==============================] - 1s 42us/step - loss: nan - mean_squared_error: nan - acc: 0.0000e+00\n",
      "Epoch 5/20\n",
      "21165/21165 [==============================] - 1s 43us/step - loss: nan - mean_squared_error: nan - acc: 0.0000e+00\n",
      "Epoch 6/20\n",
      "21165/21165 [==============================] - 1s 50us/step - loss: nan - mean_squared_error: nan - acc: 0.0000e+00\n",
      "Epoch 7/20\n",
      "21165/21165 [==============================] - 1s 50us/step - loss: nan - mean_squared_error: nan - acc: 0.0000e+00\n",
      "Epoch 8/20\n",
      "21165/21165 [==============================] - 1s 48us/step - loss: nan - mean_squared_error: nan - acc: 0.0000e+00\n",
      "Epoch 9/20\n",
      "21165/21165 [==============================] - 1s 45us/step - loss: nan - mean_squared_error: nan - acc: 0.0000e+00\n",
      "Epoch 10/20\n",
      "21165/21165 [==============================] - 1s 45us/step - loss: nan - mean_squared_error: nan - acc: 0.0000e+00\n",
      "Epoch 11/20\n",
      "21165/21165 [==============================] - 1s 50us/step - loss: nan - mean_squared_error: nan - acc: 0.0000e+00\n",
      "Epoch 12/20\n",
      "21165/21165 [==============================] - 1s 43us/step - loss: nan - mean_squared_error: nan - acc: 0.0000e+00\n",
      "Epoch 13/20\n",
      "21165/21165 [==============================] - 1s 43us/step - loss: nan - mean_squared_error: nan - acc: 0.0000e+00\n",
      "Epoch 14/20\n",
      "21165/21165 [==============================] - 1s 43us/step - loss: nan - mean_squared_error: nan - acc: 0.0000e+00\n",
      "Epoch 15/20\n",
      "21165/21165 [==============================] - 1s 44us/step - loss: nan - mean_squared_error: nan - acc: 0.0000e+00\n",
      "Epoch 16/20\n",
      "21165/21165 [==============================] - 1s 47us/step - loss: nan - mean_squared_error: nan - acc: 0.0000e+00\n",
      "Epoch 17/20\n",
      "21165/21165 [==============================] - 1s 55us/step - loss: nan - mean_squared_error: nan - acc: 0.0000e+00\n",
      "Epoch 18/20\n",
      "21165/21165 [==============================] - 1s 52us/step - loss: nan - mean_squared_error: nan - acc: 0.0000e+00\n",
      "Epoch 19/20\n",
      "21165/21165 [==============================] - 1s 56us/step - loss: nan - mean_squared_error: nan - acc: 0.0000e+00\n",
      "Epoch 20/20\n",
      "21165/21165 [==============================] - 1s 60us/step - loss: nan - mean_squared_error: nan - acc: 0.0000e+00\n"
     ]
    },
    {
     "data": {
      "text/plain": [
       "<keras.callbacks.History at 0x1c5fb7f080>"
      ]
     },
     "execution_count": 38,
     "metadata": {},
     "output_type": "execute_result"
    }
   ],
   "source": [
    "model_total.fit([X_train_cat, X_train_con], keras.utils.to_categorical(Y_train, num_classes=None),\n",
    "          epochs=20, batch_size=32)"
   ]
  },
  {
   "cell_type": "code",
   "execution_count": null,
   "metadata": {
    "collapsed": true
   },
   "outputs": [],
   "source": []
  },
  {
   "cell_type": "code",
   "execution_count": null,
   "metadata": {
    "collapsed": true
   },
   "outputs": [],
   "source": []
  },
  {
   "cell_type": "code",
   "execution_count": null,
   "metadata": {
    "collapsed": true
   },
   "outputs": [],
   "source": []
  },
  {
   "cell_type": "markdown",
   "metadata": {},
   "source": [
    "\n"
   ]
  }
 ],
 "metadata": {
  "kernelspec": {
   "display_name": "Python 3",
   "language": "python",
   "name": "python3"
  },
  "language_info": {
   "codemirror_mode": {
    "name": "ipython",
    "version": 3
   },
   "file_extension": ".py",
   "mimetype": "text/x-python",
   "name": "python",
   "nbconvert_exporter": "python",
   "pygments_lexer": "ipython3",
   "version": "3.6.3"
  }
 },
 "nbformat": 4,
 "nbformat_minor": 2
}
