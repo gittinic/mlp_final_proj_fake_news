{
 "cells": [
  {
   "cell_type": "code",
   "execution_count": 2,
   "metadata": {
    "collapsed": true
   },
   "outputs": [],
   "source": [
    "import datetime\n",
    "import matplotlib #?\n",
    "import matplotlib.pyplot as plt\n",
    "import pandas as pd\n",
    "import numpy as np\n"
   ]
  },
  {
   "cell_type": "code",
   "execution_count": 3,
   "metadata": {
    "collapsed": true
   },
   "outputs": [],
   "source": [
    "metadata_file = '/Users/jaspermeijering/Google Drive/a Study/EPA Study Abroad - Carnegie Mellon University/Courses/CMU - 95845 - Applied Analytics The Machine Learning Pipeline/Machine Learning Pipeline Final Project/Data/FalseNews_Code_Data/data/metadata_anon.txt'\n"
   ]
  },
  {
   "cell_type": "code",
   "execution_count": 4,
   "metadata": {
    "collapsed": true
   },
   "outputs": [],
   "source": [
    "# Read meta data \n",
    "fin = open(metadata_file,'r')\n",
    "lines = fin.readlines()\n",
    "fin.close()\n",
    "cascade_id2metadata={}\n",
    "for line in lines:\n",
    "    line = line.replace('\\n','')\n",
    "    item = eval(line)\n",
    "    cascade_id2metadata[item[0]] = item[1]"
   ]
  },
  {
   "cell_type": "code",
   "execution_count": 5,
   "metadata": {
    "collapsed": true,
    "scrolled": true
   },
   "outputs": [],
   "source": [
    "veracity_all_cascades = []\n",
    "veracity_shared_cascades = []\n",
    "for cascade,metadata in cascade_id2metadata.items():\n",
    "    veracity_all_cascades.append(metadata['veracity']+'_all')\n",
    "    if metadata['virality'] is not None: \n",
    "        veracity_shared_cascades.append(metadata['veracity']+'_shared')\n",
    "  "
   ]
  },
  {
   "cell_type": "code",
   "execution_count": 6,
   "metadata": {},
   "outputs": [
    {
     "data": {
      "text/plain": [
       "(['FALSE_all', 0.6540328263434178],\n",
       " ['MIXED_shared', 0.09681328865758894],\n",
       " ['MIXED_all', 0.1527066294011924],\n",
       " ['TRUE_shared', 0.146122953351869],\n",
       " ['TRUE_all', 0.1932605442553899],\n",
       " ['FALSE_shared', 0.757063757990542])"
      ]
     },
     "execution_count": 6,
     "metadata": {},
     "output_type": "execute_result"
    }
   ],
   "source": [
    "l = [[x,veracity_all_cascades.count(x)/len(veracity_all_cascades)] for x in set(veracity_all_cascades)] \\\n",
    "+ [[x,veracity_shared_cascades.count(x)/len(veracity_shared_cascades)] for x in set(veracity_shared_cascades)]\n",
    "#change order\n",
    "ll = l[2],l[5],l[1],l[4],l[0],l[3]\n",
    "ll"
   ]
  },
  {
   "cell_type": "code",
   "execution_count": 7,
   "metadata": {},
   "outputs": [
    {
     "data": {
      "image/png": "[encoded data removed]",
      "text/plain": [
       "<matplotlib.figure.Figure at 0x14c810908>"
      ]
     },
     "metadata": {},
     "output_type": "display_data"
    },
    {
     "data": {
      "text/plain": [
       "<matplotlib.figure.Figure at 0x14ce7b5c0>"
      ]
     },
     "metadata": {},
     "output_type": "display_data"
    }
   ],
   "source": [
    "freequency = []\n",
    "words = []\n",
    "\n",
    "for line in ll:\n",
    "    freequency.append(line[1])\n",
    "    words.append(line[0])\n",
    "\n",
    "x_axis = np.arange(1, len(words) + 1, 1)\n",
    "\n",
    "plt.bar(x_axis, freequency, align='center')\n",
    "plt.xticks(x_axis, words)\n",
    "plt.figure(figsize=(8, 4))\n",
    "plt.show()"
   ]
  },
  {
   "cell_type": "code",
   "execution_count": 8,
   "metadata": {},
   "outputs": [
    {
     "name": "stdout",
     "output_type": "stream",
     "text": [
      "Delting the single item cascades decresed the sample size from 126301 to 42081 the number of cascades in the mixed news group was 4074 . Also, the plot shows that the distribution of shared true, false and mixed news items is comparable. Therefore we assume that decressed sample is still representative.\n"
     ]
    }
   ],
   "source": [
    "print(\"Delting the single item cascades decresed the sample size from\",len(veracity_all_cascades),\"to\", len(veracity_shared_cascades), \\\n",
    "     \"the number of cascades in the mixed news group was\",veracity_shared_cascades.count('MIXED_shared'), \\\n",
    "     \". Also, the plot shows that the distribution of shared true, false and mixed news items is comparable. \\\n",
    "Therefore we assume that decressed sample is still representative.\")"
   ]
  },
  {
   "cell_type": "code",
   "execution_count": 9,
   "metadata": {
    "collapsed": true
   },
   "outputs": [],
   "source": [
    "cid = []\n",
    "veracity = []\n",
    "virality = []\n",
    "depth = []\n",
    "breadth = []\n",
    "size = []\n",
    "verified = []\n",
    "nfollowers = []\n",
    "nfollowees = []\n",
    "engagement = []\n",
    "category = []\n",
    "for cascade,metadata in cascade_id2metadata.items():\n",
    "    if metadata['virality'] is not None: \n",
    "        cid.append(cascade)\n",
    "        veracity.append(metadata['veracity'])\n",
    "        virality.append(metadata['virality'])\n",
    "        depth.append(metadata['depth'])\n",
    "        breadth.append(metadata['max_breadth'])\n",
    "        size.append(metadata['size'])\n",
    "        verified.append(metadata['verified_list'][0])\n",
    "        nfollowers.append(metadata['num_followers_list'][0])\n",
    "        nfollowees.append(metadata['num_followees_list'][0])\n",
    "        engagement.append(metadata['engagement_list'][0])\n",
    "        category.append(metadata['rumor_category'])\n",
    "\n",
    "# Convert to data frame\n",
    "static = pd.DataFrame({'cid': cid,\n",
    "                       'veracity': veracity,\n",
    "                       'virality': virality,\n",
    "                       'depth': depth,\n",
    "                       'breadth': breadth,\n",
    "                       'size': size,\n",
    "                       'verified': verified,\n",
    "                       'nfollowers': nfollowers,\n",
    "                       'nfollowees': nfollowees,\n",
    "                       'engangement': engagement,\n",
    "                       'category': category})\n",
    "\n",
    "# Inspect\n",
    "#static.head(5)"
   ]
  },
  {
   "cell_type": "code",
   "execution_count": 10,
   "metadata": {},
   "outputs": [
    {
     "data": {
      "text/html": [
       "<div>\n",
       "<style>\n",
       "    .dataframe thead tr:only-child th {\n",
       "        text-align: right;\n",
       "    }\n",
       "\n",
       "    .dataframe thead th {\n",
       "        text-align: left;\n",
       "    }\n",
       "\n",
       "    .dataframe tbody tr th {\n",
       "        vertical-align: top;\n",
       "    }\n",
       "</style>\n",
       "<table border=\"1\" class=\"dataframe\">\n",
       "  <thead>\n",
       "    <tr style=\"text-align: right;\">\n",
       "      <th></th>\n",
       "      <th>breadth</th>\n",
       "      <th>depth</th>\n",
       "      <th>engangement</th>\n",
       "      <th>nfollowees</th>\n",
       "      <th>nfollowers</th>\n",
       "      <th>size</th>\n",
       "    </tr>\n",
       "  </thead>\n",
       "  <tbody>\n",
       "    <tr>\n",
       "      <th>count</th>\n",
       "      <td>42081.0</td>\n",
       "      <td>42081.0</td>\n",
       "      <td>42081.0</td>\n",
       "      <td>41945.0</td>\n",
       "      <td>41945.0</td>\n",
       "      <td>42081.0</td>\n",
       "    </tr>\n",
       "    <tr>\n",
       "      <th>mean</th>\n",
       "      <td>59.4</td>\n",
       "      <td>1.7</td>\n",
       "      <td>77.6</td>\n",
       "      <td>7286.3</td>\n",
       "      <td>58977.0</td>\n",
       "      <td>93.9</td>\n",
       "    </tr>\n",
       "    <tr>\n",
       "      <th>std</th>\n",
       "      <td>527.5</td>\n",
       "      <td>1.3</td>\n",
       "      <td>121.2</td>\n",
       "      <td>20474.5</td>\n",
       "      <td>598092.8</td>\n",
       "      <td>950.7</td>\n",
       "    </tr>\n",
       "    <tr>\n",
       "      <th>min</th>\n",
       "      <td>2.0</td>\n",
       "      <td>1.0</td>\n",
       "      <td>0.0</td>\n",
       "      <td>0.0</td>\n",
       "      <td>0.0</td>\n",
       "      <td>2.0</td>\n",
       "    </tr>\n",
       "    <tr>\n",
       "      <th>25%</th>\n",
       "      <td>2.0</td>\n",
       "      <td>1.0</td>\n",
       "      <td>6.1</td>\n",
       "      <td>468.0</td>\n",
       "      <td>673.0</td>\n",
       "      <td>2.0</td>\n",
       "    </tr>\n",
       "    <tr>\n",
       "      <th>50%</th>\n",
       "      <td>3.0</td>\n",
       "      <td>1.0</td>\n",
       "      <td>21.6</td>\n",
       "      <td>1645.0</td>\n",
       "      <td>2820.0</td>\n",
       "      <td>4.0</td>\n",
       "    </tr>\n",
       "    <tr>\n",
       "      <th>75%</th>\n",
       "      <td>8.0</td>\n",
       "      <td>2.0</td>\n",
       "      <td>80.3</td>\n",
       "      <td>7289.0</td>\n",
       "      <td>19417.0</td>\n",
       "      <td>9.0</td>\n",
       "    </tr>\n",
       "    <tr>\n",
       "      <th>max</th>\n",
       "      <td>29527.0</td>\n",
       "      <td>24.0</td>\n",
       "      <td>1248.3</td>\n",
       "      <td>1303465.0</td>\n",
       "      <td>55776569.0</td>\n",
       "      <td>46895.0</td>\n",
       "    </tr>\n",
       "  </tbody>\n",
       "</table>\n",
       "</div>"
      ],
      "text/plain": [
       "       breadth    depth  engangement  nfollowees  nfollowers     size\n",
       "count  42081.0  42081.0      42081.0     41945.0     41945.0  42081.0\n",
       "mean      59.4      1.7         77.6      7286.3     58977.0     93.9\n",
       "std      527.5      1.3        121.2     20474.5    598092.8    950.7\n",
       "min        2.0      1.0          0.0         0.0         0.0      2.0\n",
       "25%        2.0      1.0          6.1       468.0       673.0      2.0\n",
       "50%        3.0      1.0         21.6      1645.0      2820.0      4.0\n",
       "75%        8.0      2.0         80.3      7289.0     19417.0      9.0\n",
       "max    29527.0     24.0       1248.3   1303465.0  55776569.0  46895.0"
      ]
     },
     "execution_count": 10,
     "metadata": {},
     "output_type": "execute_result"
    }
   ],
   "source": [
    "static.loc[:,['breadth','depth','engangement','nfollowees','nfollowers','size']].describe().round(1)"
   ]
  },
  {
   "cell_type": "code",
   "execution_count": 17,
   "metadata": {
    "scrolled": true
   },
   "outputs": [
    {
     "data": {
      "image/png": "[encoded data removed]",
      "text/plain": [
       "<matplotlib.figure.Figure at 0x14ebd9dd8>"
      ]
     },
     "metadata": {},
     "output_type": "display_data"
    }
   ],
   "source": [
    "#not so insightfull (occurency of size)\n",
    "size_plot = static.loc[:,'size'].plot(kind='hist') # strange log scale doesn't work\n",
    "plt.show()"
   ]
  },
  {
   "cell_type": "code",
   "execution_count": 18,
   "metadata": {},
   "outputs": [
    {
     "data": {
      "image/png": "[encoded data removed]",
      "text/plain": [
       "<matplotlib.figure.Figure at 0x14ffc5eb8>"
      ]
     },
     "metadata": {},
     "output_type": "display_data"
    }
   ],
   "source": [
    "depth_plot = static.loc[:,'depth'].plot(kind='hist')\n",
    "plt.show()"
   ]
  },
  {
   "cell_type": "code",
   "execution_count": null,
   "metadata": {},
   "outputs": [],
   "source": [
    "len_depth2time = []\n",
    "len_num_followees_list = []\n",
    "len_depth2uu = []\n",
    "len_uu2time = []\n",
    "len_depth2breadth = []\n",
    "for cascade,metadata in cascade_id2metadata.items():\n",
    "    if metadata['virality'] is not None: \n",
    "        len_depth2time.append(len(metadata['depth2time'].keys()))\n",
    "        len_num_followees_list.append(len(metadata['num_followees_list']))\n",
    "        len_depth2uu.append(len(metadata['depth2uu'].keys()))\n",
    "        len_uu2time.append(len(metadata['uu2time'].keys()))\n",
    "        len_depth2breadth.append(len(metadata['depth2breadth'].keys()))\n",
    "    \n",
    "# Convert to data frame\n",
    "dynamic_len = pd.DataFrame({'depth2time ': len_depth2time, \n",
    "                           'num_followees_list': len_num_followees_list, \n",
    "                           'depth2uu': len_depth2uu, \n",
    "                           'uu2time': len_uu2time, \n",
    "                           'depth2breadth': len_depth2breadth})\n",
    "\n",
    "# # Get summary\n",
    "dynamic_len.describe(percentiles = [0.25, 0.5, 0.75, 1]).round()"
   ]
  },
  {
   "cell_type": "code",
   "execution_count": null,
   "metadata": {
    "collapsed": true
   },
   "outputs": [],
   "source": []
  },
  {
   "cell_type": "code",
   "execution_count": null,
   "metadata": {
    "collapsed": true
   },
   "outputs": [],
   "source": []
  },
  {
   "cell_type": "code",
   "execution_count": null,
   "metadata": {
    "collapsed": true
   },
   "outputs": [],
   "source": []
  },
  {
   "cell_type": "code",
   "execution_count": null,
   "metadata": {
    "collapsed": true
   },
   "outputs": [],
   "source": []
  },
  {
   "cell_type": "markdown",
   "metadata": {},
   "source": [
    "# Junk / Notes"
   ]
  },
  {
   "cell_type": "code",
   "execution_count": null,
   "metadata": {
    "collapsed": true
   },
   "outputs": [],
   "source": [
    "fig = plt.figure(figsize=(8, 4))\n"
   ]
  },
  {
   "cell_type": "code",
   "execution_count": null,
   "metadata": {},
   "outputs": [],
   "source": [
    "for i in range(len(l)):\n",
    "    l\n",
    "          print(i)"
   ]
  },
  {
   "cell_type": "code",
   "execution_count": null,
   "metadata": {
    "collapsed": true,
    "scrolled": true
   },
   "outputs": [],
   "source": [
    "l = [[x,veracity_all_cascades.count(x)/len(veracity_all_cascades)] for x in set(veracity_all_cascades)] \\\n",
    "+ [[x,veracity_shared_cascades.count(x)/len(veracity_shared_cascades)] for x in set(veracity_shared_cascades)]\n",
    "\n",
    "l\n"
   ]
  },
  {
   "cell_type": "code",
   "execution_count": null,
   "metadata": {
    "collapsed": true
   },
   "outputs": [],
   "source": []
  },
  {
   "cell_type": "code",
   "execution_count": null,
   "metadata": {
    "collapsed": true
   },
   "outputs": [],
   "source": [
    "type(l)"
   ]
  },
  {
   "cell_type": "code",
   "execution_count": null,
   "metadata": {
    "collapsed": true
   },
   "outputs": [],
   "source": [
    "import numpy as np"
   ]
  },
  {
   "cell_type": "code",
   "execution_count": null,
   "metadata": {
    "collapsed": true
   },
   "outputs": [],
   "source": [
    "freequency = []\n",
    "words = []\n",
    "\n",
    "for line in l:\n",
    "    freequency.append(line[1])\n",
    "    words.append(line[0])\n",
    "\n",
    "x_axis = np.arange(1, len(words) + 1, 1)\n",
    "\n",
    "plt.bar(x_axis, freequency, align='center')\n",
    "plt.xticks(x_axis, words)\n",
    "plt.show()"
   ]
  },
  {
   "cell_type": "code",
   "execution_count": null,
   "metadata": {
    "collapsed": true
   },
   "outputs": [],
   "source": [
    "matplotlib.pyplot.hist(l)\n",
    "\n",
    "plt.show()"
   ]
  },
  {
   "cell_type": "code",
   "execution_count": null,
   "metadata": {
    "collapsed": true
   },
   "outputs": [],
   "source": [
    "l  = [[x,veracity_all_cascades.count(x)/len(veracity_all_cascades)] for x in set(veracity_all_cascades)]\n",
    "\n",
    "l"
   ]
  },
  {
   "cell_type": "code",
   "execution_count": null,
   "metadata": {
    "collapsed": true
   },
   "outputs": [],
   "source": [
    "ll = [[x,veracity_shared_cascades.count(x)/len(veracity_shared_cascades)] for x in set(veracity_shared_cascades)]\n",
    "ll"
   ]
  },
  {
   "cell_type": "code",
   "execution_count": null,
   "metadata": {
    "collapsed": true
   },
   "outputs": [],
   "source": [
    "lll = ll + l\n",
    "lll"
   ]
  },
  {
   "cell_type": "code",
   "execution_count": null,
   "metadata": {
    "collapsed": true
   },
   "outputs": [],
   "source": [
    "veracity_all_cascades.count(\"FALSE_all\") / len(veracity_all_cascades)\n",
    "#veracity_all_cascades.count(\"TRUE_all\") / len(veracity_all_cascades) \n",
    "#veracity_all_cascades.count(\"MIXED_all\") / len(veracity_all_cascades)\n",
    "veracity_shared_cascades.count(\"FALSE_shared\") / len(veracity_shared_cascades)\n",
    "#veracity_shared_cascades.count(\"TRUE_shared\") / len(veracity_shared_cascades) \n",
    "#veracity_shared_cascades.count(\"MIXED_shared\") / len(veracity_shared_cascades) "
   ]
  },
  {
   "cell_type": "code",
   "execution_count": null,
   "metadata": {
    "collapsed": true
   },
   "outputs": [],
   "source": []
  },
  {
   "cell_type": "code",
   "execution_count": null,
   "metadata": {
    "collapsed": true
   },
   "outputs": [],
   "source": [
    "matplotlib.pyplot.hist(veracity_all_cascades + veracity_shared_cascades)\n",
    "#matplotlib.pyplot.hist(veracity_shared_cascades)\n",
    "plt.show()\n"
   ]
  },
  {
   "cell_type": "code",
   "execution_count": null,
   "metadata": {
    "collapsed": true
   },
   "outputs": [],
   "source": [
    "matplotlib.pyplot.hist(veracity_all_cascades + veracity_shared_cascades, color = ['red','pink','red','pink','red','pink'])\n",
    "plt.show()\n"
   ]
  },
  {
   "cell_type": "code",
   "execution_count": null,
   "metadata": {
    "collapsed": true
   },
   "outputs": [],
   "source": [
    "import pylab as plt\n",
    "#import mathplotlib\n",
    "#import plotly\n",
    "#import plotly.plotly as py\n",
    "\n",
    "list(Counter(veracity_all_cascades).items())\n",
    "list(Counter(veracity_shared_cascades ).items())\n",
    "\n",
    "\n",
    "\n",
    "\n",
    "\n"
   ]
  },
  {
   "cell_type": "code",
   "execution_count": null,
   "metadata": {
    "collapsed": true
   },
   "outputs": [],
   "source": [
    "#veracity_all_cascades"
   ]
  },
  {
   "cell_type": "code",
   "execution_count": null,
   "metadata": {
    "collapsed": true,
    "scrolled": true
   },
   "outputs": [],
   "source": [
    "veracity_all_cascades.count('FALSE')"
   ]
  },
  {
   "cell_type": "code",
   "execution_count": null,
   "metadata": {
    "collapsed": true
   },
   "outputs": [],
   "source": [
    "from collections import Counter\n",
    "z = veracity_all_cascades\n",
    "# = Counter(z)\n",
    "list(Counter(z).items())\n",
    "#[('5', 3), ('4', 1)]\n",
    "#count[\"FALSE\"]\n",
    "#type(count)"
   ]
  },
  {
   "cell_type": "code",
   "execution_count": null,
   "metadata": {
    "collapsed": true
   },
   "outputs": [],
   "source": [
    "[x,veracity_all_cascades.count(x)] for x in set(veracity_all_cascades)]"
   ]
  }
 ],
 "metadata": {
  "kernelspec": {
   "display_name": "Python 3",
   "language": "python",
   "name": "python3"
  },
  "language_info": {
   "codemirror_mode": {
    "name": "ipython",
    "version": 3
   },
   "file_extension": ".py",
   "mimetype": "text/x-python",
   "name": "python",
   "nbconvert_exporter": "python",
   "pygments_lexer": "ipython3",
   "version": "3.6.3"
  }
 },
 "nbformat": 4,
 "nbformat_minor": 2
}
